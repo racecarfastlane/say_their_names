{
 "cells": [
  {
   "cell_type": "code",
   "execution_count": 1,
   "metadata": {},
   "outputs": [],
   "source": [
    "import pandas as pd"
   ]
  },
  {
   "cell_type": "code",
   "execution_count": 2,
   "metadata": {},
   "outputs": [],
   "source": [
    "inbody = pd.read_csv('data/inbody.csv')  \n",
    "\n",
    "inanchor = pd.read_csv('data/inanchor.csv')  "
   ]
  },
  {
   "cell_type": "code",
   "execution_count": 3,
   "metadata": {},
   "outputs": [],
   "source": [
    "frames = [inbody, inanchor]\n",
    "result = pd.concat(frames)"
   ]
  },
  {
   "cell_type": "code",
   "execution_count": 4,
   "metadata": {},
   "outputs": [
    {
     "data": {
      "text/plain": [
       "(63847, 5)"
      ]
     },
     "execution_count": 4,
     "metadata": {},
     "output_type": "execute_result"
    }
   ],
   "source": [
    "result.shape"
   ]
  },
  {
   "cell_type": "code",
   "execution_count": 5,
   "metadata": {},
   "outputs": [],
   "source": [
    "victims = result.drop_duplicates()"
   ]
  },
  {
   "cell_type": "code",
   "execution_count": 6,
   "metadata": {},
   "outputs": [
    {
     "data": {
      "text/plain": [
       "(56177, 5)"
      ]
     },
     "execution_count": 6,
     "metadata": {},
     "output_type": "execute_result"
    }
   ],
   "source": [
    "victims.shape"
   ]
  },
  {
   "cell_type": "code",
   "execution_count": 7,
   "metadata": {},
   "outputs": [
    {
     "data": {
      "text/html": [
       "<div>\n",
       "<style scoped>\n",
       "    .dataframe tbody tr th:only-of-type {\n",
       "        vertical-align: middle;\n",
       "    }\n",
       "\n",
       "    .dataframe tbody tr th {\n",
       "        vertical-align: top;\n",
       "    }\n",
       "\n",
       "    .dataframe thead th {\n",
       "        text-align: right;\n",
       "    }\n",
       "</style>\n",
       "<table border=\"1\" class=\"dataframe\">\n",
       "  <thead>\n",
       "    <tr style=\"text-align: right;\">\n",
       "      <th></th>\n",
       "      <th>url</th>\n",
       "      <th>description</th>\n",
       "      <th>datePublished</th>\n",
       "      <th>victim</th>\n",
       "      <th>source</th>\n",
       "    </tr>\n",
       "  </thead>\n",
       "  <tbody>\n",
       "    <tr>\n",
       "      <th>0</th>\n",
       "      <td>https://www.dallasnews.com/news/crime/2021/05/...</td>\n",
       "      <td>He was identified by police Monday afternoon a...</td>\n",
       "      <td>2021-05-11T00:56:00.0000000Z</td>\n",
       "      <td>Kalon Horton</td>\n",
       "      <td>Dallas Morning News</td>\n",
       "    </tr>\n",
       "    <tr>\n",
       "      <th>1</th>\n",
       "      <td>https://www.newsweek.com/full-list-229-black-p...</td>\n",
       "      <td>U.S. George Floyd Police Killings Police bruta...</td>\n",
       "      <td>2021-05-25T11:09:00.0000000Z</td>\n",
       "      <td>Kalon Horton</td>\n",
       "      <td>Newsweek</td>\n",
       "    </tr>\n",
       "    <tr>\n",
       "      <th>2</th>\n",
       "      <td>https://news.yahoo.com/george-floyd-anniversar...</td>\n",
       "      <td>Relatives say police had been told young man w...</td>\n",
       "      <td>2021-05-25T08:00:00.0000000Z</td>\n",
       "      <td>Ashton Pinke</td>\n",
       "      <td>YAHOO!News</td>\n",
       "    </tr>\n",
       "    <tr>\n",
       "      <th>3</th>\n",
       "      <td>https://dfw.cbslocal.com/2021/05/04/family-ash...</td>\n",
       "      <td>Ashton Pinke (credit: Pinke family ... Mark Br...</td>\n",
       "      <td>2021-05-05T02:51:00.0000000Z</td>\n",
       "      <td>Ashton Pinke</td>\n",
       "      <td>CBS DFW</td>\n",
       "    </tr>\n",
       "    <tr>\n",
       "      <th>4</th>\n",
       "      <td>https://dfw.cbslocal.com/2021/05/07/mesquite-p...</td>\n",
       "      <td>MESQUITE, Texas (CBSDFW.COM) – The Mesquite Po...</td>\n",
       "      <td>2021-05-08T04:34:00.0000000Z</td>\n",
       "      <td>Ashton Pinke</td>\n",
       "      <td>CBS DFW</td>\n",
       "    </tr>\n",
       "  </tbody>\n",
       "</table>\n",
       "</div>"
      ],
      "text/plain": [
       "                                                 url  \\\n",
       "0  https://www.dallasnews.com/news/crime/2021/05/...   \n",
       "1  https://www.newsweek.com/full-list-229-black-p...   \n",
       "2  https://news.yahoo.com/george-floyd-anniversar...   \n",
       "3  https://dfw.cbslocal.com/2021/05/04/family-ash...   \n",
       "4  https://dfw.cbslocal.com/2021/05/07/mesquite-p...   \n",
       "\n",
       "                                         description  \\\n",
       "0  He was identified by police Monday afternoon a...   \n",
       "1  U.S. George Floyd Police Killings Police bruta...   \n",
       "2  Relatives say police had been told young man w...   \n",
       "3  Ashton Pinke (credit: Pinke family ... Mark Br...   \n",
       "4  MESQUITE, Texas (CBSDFW.COM) – The Mesquite Po...   \n",
       "\n",
       "                  datePublished        victim               source  \n",
       "0  2021-05-11T00:56:00.0000000Z  Kalon Horton  Dallas Morning News  \n",
       "1  2021-05-25T11:09:00.0000000Z  Kalon Horton             Newsweek  \n",
       "2  2021-05-25T08:00:00.0000000Z  Ashton Pinke           YAHOO!News  \n",
       "3  2021-05-05T02:51:00.0000000Z  Ashton Pinke              CBS DFW  \n",
       "4  2021-05-08T04:34:00.0000000Z  Ashton Pinke              CBS DFW  "
      ]
     },
     "execution_count": 7,
     "metadata": {},
     "output_type": "execute_result"
    }
   ],
   "source": [
    "victims.head()"
   ]
  },
  {
   "cell_type": "code",
   "execution_count": 8,
   "metadata": {},
   "outputs": [],
   "source": [
    "victims = victims[victims['description'].str.contains('police' or 'cop' or 'officer' or 'sheriff'\n",
    "                                            or 'murder' or 'police' or 'shot' or 'shoot' \n",
    "                                            or 'shot' or 'shoot'  or 'George Floyd'\n",
    "                                            or 'troopers' or 'BLM' or 'black lives matter')]"
   ]
  },
  {
   "cell_type": "code",
   "execution_count": 9,
   "metadata": {},
   "outputs": [],
   "source": [
    "victims['index'] = range(1, len(victims) + 1)"
   ]
  },
  {
   "cell_type": "code",
   "execution_count": 10,
   "metadata": {},
   "outputs": [
    {
     "data": {
      "text/html": [
       "<div>\n",
       "<style scoped>\n",
       "    .dataframe tbody tr th:only-of-type {\n",
       "        vertical-align: middle;\n",
       "    }\n",
       "\n",
       "    .dataframe tbody tr th {\n",
       "        vertical-align: top;\n",
       "    }\n",
       "\n",
       "    .dataframe thead th {\n",
       "        text-align: right;\n",
       "    }\n",
       "</style>\n",
       "<table border=\"1\" class=\"dataframe\">\n",
       "  <thead>\n",
       "    <tr style=\"text-align: right;\">\n",
       "      <th></th>\n",
       "      <th>url</th>\n",
       "      <th>description</th>\n",
       "      <th>datePublished</th>\n",
       "      <th>victim</th>\n",
       "      <th>source</th>\n",
       "      <th>index</th>\n",
       "    </tr>\n",
       "  </thead>\n",
       "  <tbody>\n",
       "    <tr>\n",
       "      <th>0</th>\n",
       "      <td>https://www.dallasnews.com/news/crime/2021/05/...</td>\n",
       "      <td>He was identified by police Monday afternoon a...</td>\n",
       "      <td>2021-05-11T00:56:00.0000000Z</td>\n",
       "      <td>Kalon Horton</td>\n",
       "      <td>Dallas Morning News</td>\n",
       "      <td>1</td>\n",
       "    </tr>\n",
       "    <tr>\n",
       "      <th>1</th>\n",
       "      <td>https://www.newsweek.com/full-list-229-black-p...</td>\n",
       "      <td>U.S. George Floyd Police Killings Police bruta...</td>\n",
       "      <td>2021-05-25T11:09:00.0000000Z</td>\n",
       "      <td>Kalon Horton</td>\n",
       "      <td>Newsweek</td>\n",
       "      <td>2</td>\n",
       "    </tr>\n",
       "  </tbody>\n",
       "</table>\n",
       "</div>"
      ],
      "text/plain": [
       "                                                 url  \\\n",
       "0  https://www.dallasnews.com/news/crime/2021/05/...   \n",
       "1  https://www.newsweek.com/full-list-229-black-p...   \n",
       "\n",
       "                                         description  \\\n",
       "0  He was identified by police Monday afternoon a...   \n",
       "1  U.S. George Floyd Police Killings Police bruta...   \n",
       "\n",
       "                  datePublished        victim               source  index  \n",
       "0  2021-05-11T00:56:00.0000000Z  Kalon Horton  Dallas Morning News      1  \n",
       "1  2021-05-25T11:09:00.0000000Z  Kalon Horton             Newsweek      2  "
      ]
     },
     "execution_count": 10,
     "metadata": {},
     "output_type": "execute_result"
    }
   ],
   "source": [
    "victims.head(2)"
   ]
  },
  {
   "cell_type": "code",
   "execution_count": 11,
   "metadata": {},
   "outputs": [],
   "source": [
    "victims = victims.set_index('index')"
   ]
  },
  {
   "cell_type": "code",
   "execution_count": 12,
   "metadata": {},
   "outputs": [
    {
     "data": {
      "text/plain": [
       "(18198, 5)"
      ]
     },
     "execution_count": 12,
     "metadata": {},
     "output_type": "execute_result"
    }
   ],
   "source": [
    "victims.shape"
   ]
  },
  {
   "cell_type": "code",
   "execution_count": 13,
   "metadata": {},
   "outputs": [],
   "source": [
    "for i in range(0, len(victims)):\n",
    "    victims.iloc[i]['datePublished'] = victims.iloc[i]['datePublished'][:10]"
   ]
  },
  {
   "cell_type": "code",
   "execution_count": 14,
   "metadata": {},
   "outputs": [
    {
     "data": {
      "text/html": [
       "<div>\n",
       "<style scoped>\n",
       "    .dataframe tbody tr th:only-of-type {\n",
       "        vertical-align: middle;\n",
       "    }\n",
       "\n",
       "    .dataframe tbody tr th {\n",
       "        vertical-align: top;\n",
       "    }\n",
       "\n",
       "    .dataframe thead th {\n",
       "        text-align: right;\n",
       "    }\n",
       "</style>\n",
       "<table border=\"1\" class=\"dataframe\">\n",
       "  <thead>\n",
       "    <tr style=\"text-align: right;\">\n",
       "      <th></th>\n",
       "      <th>url</th>\n",
       "      <th>description</th>\n",
       "      <th>datePublished</th>\n",
       "      <th>victim</th>\n",
       "      <th>source</th>\n",
       "    </tr>\n",
       "    <tr>\n",
       "      <th>index</th>\n",
       "      <th></th>\n",
       "      <th></th>\n",
       "      <th></th>\n",
       "      <th></th>\n",
       "      <th></th>\n",
       "    </tr>\n",
       "  </thead>\n",
       "  <tbody>\n",
       "    <tr>\n",
       "      <th>1</th>\n",
       "      <td>https://www.dallasnews.com/news/crime/2021/05/...</td>\n",
       "      <td>He was identified by police Monday afternoon a...</td>\n",
       "      <td>2021-05-11</td>\n",
       "      <td>Kalon Horton</td>\n",
       "      <td>Dallas Morning News</td>\n",
       "    </tr>\n",
       "    <tr>\n",
       "      <th>2</th>\n",
       "      <td>https://www.newsweek.com/full-list-229-black-p...</td>\n",
       "      <td>U.S. George Floyd Police Killings Police bruta...</td>\n",
       "      <td>2021-05-25</td>\n",
       "      <td>Kalon Horton</td>\n",
       "      <td>Newsweek</td>\n",
       "    </tr>\n",
       "  </tbody>\n",
       "</table>\n",
       "</div>"
      ],
      "text/plain": [
       "                                                     url  \\\n",
       "index                                                      \n",
       "1      https://www.dallasnews.com/news/crime/2021/05/...   \n",
       "2      https://www.newsweek.com/full-list-229-black-p...   \n",
       "\n",
       "                                             description datePublished  \\\n",
       "index                                                                    \n",
       "1      He was identified by police Monday afternoon a...    2021-05-11   \n",
       "2      U.S. George Floyd Police Killings Police bruta...    2021-05-25   \n",
       "\n",
       "             victim               source  \n",
       "index                                     \n",
       "1      Kalon Horton  Dallas Morning News  \n",
       "2      Kalon Horton             Newsweek  "
      ]
     },
     "execution_count": 14,
     "metadata": {},
     "output_type": "execute_result"
    }
   ],
   "source": [
    "victims.head(2)"
   ]
  },
  {
   "cell_type": "code",
   "execution_count": null,
   "metadata": {},
   "outputs": [],
   "source": []
  },
  {
   "cell_type": "code",
   "execution_count": 16,
   "metadata": {},
   "outputs": [],
   "source": [
    "victims.to_csv('data/victims.csv',index=False)"
   ]
  },
  {
   "cell_type": "code",
   "execution_count": null,
   "metadata": {},
   "outputs": [],
   "source": []
  }
 ],
 "metadata": {
  "kernelspec": {
   "display_name": "Python 3",
   "language": "python",
   "name": "python3"
  },
  "language_info": {
   "codemirror_mode": {
    "name": "ipython",
    "version": 3
   },
   "file_extension": ".py",
   "mimetype": "text/x-python",
   "name": "python",
   "nbconvert_exporter": "python",
   "pygments_lexer": "ipython3",
   "version": "3.8.3"
  }
 },
 "nbformat": 4,
 "nbformat_minor": 4
}
