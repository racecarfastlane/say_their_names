{
 "cells": [
  {
   "cell_type": "code",
   "execution_count": 1,
   "metadata": {},
   "outputs": [],
   "source": [
    "import pandas as pd"
   ]
  },
  {
   "cell_type": "code",
   "execution_count": 2,
   "metadata": {},
   "outputs": [],
   "source": [
    "inbody = pd.read_csv('data/inbody.csv')  \n",
    "\n",
    "inanchor = pd.read_csv('data/inanchor.csv')  "
   ]
  },
  {
   "cell_type": "code",
   "execution_count": 3,
   "metadata": {},
   "outputs": [],
   "source": [
    "frames = [inbody, inanchor]\n",
    "result = pd.concat(frames)"
   ]
  },
  {
   "cell_type": "code",
   "execution_count": 4,
   "metadata": {},
   "outputs": [
    {
     "data": {
      "text/plain": [
       "(63847, 5)"
      ]
     },
     "execution_count": 4,
     "metadata": {},
     "output_type": "execute_result"
    }
   ],
   "source": [
    "result.shape"
   ]
  },
  {
   "cell_type": "code",
   "execution_count": 5,
   "metadata": {},
   "outputs": [],
   "source": [
    "victims = result.drop_duplicates()"
   ]
  },
  {
   "cell_type": "code",
   "execution_count": 6,
   "metadata": {},
   "outputs": [
    {
     "data": {
      "text/plain": [
       "(56177, 5)"
      ]
     },
     "execution_count": 6,
     "metadata": {},
     "output_type": "execute_result"
    }
   ],
   "source": [
    "victims.shape"
   ]
  },
  {
   "cell_type": "code",
   "execution_count": 7,
   "metadata": {},
   "outputs": [
    {
     "data": {
      "text/html": [
       "<div>\n",
       "<style scoped>\n",
       "    .dataframe tbody tr th:only-of-type {\n",
       "        vertical-align: middle;\n",
       "    }\n",
       "\n",
       "    .dataframe tbody tr th {\n",
       "        vertical-align: top;\n",
       "    }\n",
       "\n",
       "    .dataframe thead th {\n",
       "        text-align: right;\n",
       "    }\n",
       "</style>\n",
       "<table border=\"1\" class=\"dataframe\">\n",
       "  <thead>\n",
       "    <tr style=\"text-align: right;\">\n",
       "      <th></th>\n",
       "      <th>url</th>\n",
       "      <th>description</th>\n",
       "      <th>datePublished</th>\n",
       "      <th>victim</th>\n",
       "      <th>source</th>\n",
       "    </tr>\n",
       "  </thead>\n",
       "  <tbody>\n",
       "    <tr>\n",
       "      <th>0</th>\n",
       "      <td>https://www.dallasnews.com/news/crime/2021/05/...</td>\n",
       "      <td>He was identified by police Monday afternoon a...</td>\n",
       "      <td>2021-05-11T00:56:00.0000000Z</td>\n",
       "      <td>Kalon Horton</td>\n",
       "      <td>Dallas Morning News</td>\n",
       "    </tr>\n",
       "    <tr>\n",
       "      <th>1</th>\n",
       "      <td>https://www.newsweek.com/full-list-229-black-p...</td>\n",
       "      <td>U.S. George Floyd Police Killings Police bruta...</td>\n",
       "      <td>2021-05-25T11:09:00.0000000Z</td>\n",
       "      <td>Kalon Horton</td>\n",
       "      <td>Newsweek</td>\n",
       "    </tr>\n",
       "    <tr>\n",
       "      <th>2</th>\n",
       "      <td>https://news.yahoo.com/george-floyd-anniversar...</td>\n",
       "      <td>Relatives say police had been told young man w...</td>\n",
       "      <td>2021-05-25T08:00:00.0000000Z</td>\n",
       "      <td>Ashton Pinke</td>\n",
       "      <td>YAHOO!News</td>\n",
       "    </tr>\n",
       "    <tr>\n",
       "      <th>3</th>\n",
       "      <td>https://dfw.cbslocal.com/2021/05/04/family-ash...</td>\n",
       "      <td>Ashton Pinke (credit: Pinke family ... Mark Br...</td>\n",
       "      <td>2021-05-05T02:51:00.0000000Z</td>\n",
       "      <td>Ashton Pinke</td>\n",
       "      <td>CBS DFW</td>\n",
       "    </tr>\n",
       "    <tr>\n",
       "      <th>4</th>\n",
       "      <td>https://dfw.cbslocal.com/2021/05/07/mesquite-p...</td>\n",
       "      <td>MESQUITE, Texas (CBSDFW.COM) – The Mesquite Po...</td>\n",
       "      <td>2021-05-08T04:34:00.0000000Z</td>\n",
       "      <td>Ashton Pinke</td>\n",
       "      <td>CBS DFW</td>\n",
       "    </tr>\n",
       "  </tbody>\n",
       "</table>\n",
       "</div>"
      ],
      "text/plain": [
       "                                                 url  \\\n",
       "0  https://www.dallasnews.com/news/crime/2021/05/...   \n",
       "1  https://www.newsweek.com/full-list-229-black-p...   \n",
       "2  https://news.yahoo.com/george-floyd-anniversar...   \n",
       "3  https://dfw.cbslocal.com/2021/05/04/family-ash...   \n",
       "4  https://dfw.cbslocal.com/2021/05/07/mesquite-p...   \n",
       "\n",
       "                                         description  \\\n",
       "0  He was identified by police Monday afternoon a...   \n",
       "1  U.S. George Floyd Police Killings Police bruta...   \n",
       "2  Relatives say police had been told young man w...   \n",
       "3  Ashton Pinke (credit: Pinke family ... Mark Br...   \n",
       "4  MESQUITE, Texas (CBSDFW.COM) – The Mesquite Po...   \n",
       "\n",
       "                  datePublished        victim               source  \n",
       "0  2021-05-11T00:56:00.0000000Z  Kalon Horton  Dallas Morning News  \n",
       "1  2021-05-25T11:09:00.0000000Z  Kalon Horton             Newsweek  \n",
       "2  2021-05-25T08:00:00.0000000Z  Ashton Pinke           YAHOO!News  \n",
       "3  2021-05-05T02:51:00.0000000Z  Ashton Pinke              CBS DFW  \n",
       "4  2021-05-08T04:34:00.0000000Z  Ashton Pinke              CBS DFW  "
      ]
     },
     "execution_count": 7,
     "metadata": {},
     "output_type": "execute_result"
    }
   ],
   "source": [
    "victims.head()"
   ]
  },
  {
   "cell_type": "code",
   "execution_count": 8,
   "metadata": {},
   "outputs": [],
   "source": [
    "victims = victims[victims['description'].str.contains('police' or 'cop' or 'officer' or 'sheriff'\n",
    "                                            or 'murder' or 'police' or 'shot' or 'shoot' \n",
    "                                            or 'shot' or 'shoot'  or 'George Floyd'\n",
    "                                            or 'troopers' or 'BLM' or 'black lives matter')]"
   ]
  },
  {
   "cell_type": "code",
   "execution_count": 9,
   "metadata": {},
   "outputs": [],
   "source": [
    "victims['index'] = range(1, len(victims) + 1)"
   ]
  },
  {
   "cell_type": "code",
   "execution_count": 10,
   "metadata": {},
   "outputs": [
    {
     "data": {
      "text/html": [
       "<div>\n",
       "<style scoped>\n",
       "    .dataframe tbody tr th:only-of-type {\n",
       "        vertical-align: middle;\n",
       "    }\n",
       "\n",
       "    .dataframe tbody tr th {\n",
       "        vertical-align: top;\n",
       "    }\n",
       "\n",
       "    .dataframe thead th {\n",
       "        text-align: right;\n",
       "    }\n",
       "</style>\n",
       "<table border=\"1\" class=\"dataframe\">\n",
       "  <thead>\n",
       "    <tr style=\"text-align: right;\">\n",
       "      <th></th>\n",
       "      <th>url</th>\n",
       "      <th>description</th>\n",
       "      <th>datePublished</th>\n",
       "      <th>victim</th>\n",
       "      <th>source</th>\n",
       "      <th>index</th>\n",
       "    </tr>\n",
       "  </thead>\n",
       "  <tbody>\n",
       "    <tr>\n",
       "      <th>0</th>\n",
       "      <td>https://www.dallasnews.com/news/crime/2021/05/...</td>\n",
       "      <td>He was identified by police Monday afternoon a...</td>\n",
       "      <td>2021-05-11T00:56:00.0000000Z</td>\n",
       "      <td>Kalon Horton</td>\n",
       "      <td>Dallas Morning News</td>\n",
       "      <td>1</td>\n",
       "    </tr>\n",
       "    <tr>\n",
       "      <th>1</th>\n",
       "      <td>https://www.newsweek.com/full-list-229-black-p...</td>\n",
       "      <td>U.S. George Floyd Police Killings Police bruta...</td>\n",
       "      <td>2021-05-25T11:09:00.0000000Z</td>\n",
       "      <td>Kalon Horton</td>\n",
       "      <td>Newsweek</td>\n",
       "      <td>2</td>\n",
       "    </tr>\n",
       "    <tr>\n",
       "      <th>2</th>\n",
       "      <td>https://news.yahoo.com/george-floyd-anniversar...</td>\n",
       "      <td>Relatives say police had been told young man w...</td>\n",
       "      <td>2021-05-25T08:00:00.0000000Z</td>\n",
       "      <td>Ashton Pinke</td>\n",
       "      <td>YAHOO!News</td>\n",
       "      <td>3</td>\n",
       "    </tr>\n",
       "    <tr>\n",
       "      <th>5</th>\n",
       "      <td>https://www.nydailynews.com/news/national/ny-d...</td>\n",
       "      <td>Two police officers in a Dallas suburb fatally...</td>\n",
       "      <td>2021-05-04T23:55:00.0000000Z</td>\n",
       "      <td>Ashton Pinke</td>\n",
       "      <td>New York Daily News</td>\n",
       "      <td>4</td>\n",
       "    </tr>\n",
       "    <tr>\n",
       "      <th>6</th>\n",
       "      <td>https://www.wfaa.com/article/news/local/video-...</td>\n",
       "      <td>MESQUITE, Texas — Mesquite police haven’t rele...</td>\n",
       "      <td>2021-05-15T16:49:00.0000000Z</td>\n",
       "      <td>Ashton Pinke</td>\n",
       "      <td>WFAA8</td>\n",
       "      <td>5</td>\n",
       "    </tr>\n",
       "    <tr>\n",
       "      <th>...</th>\n",
       "      <td>...</td>\n",
       "      <td>...</td>\n",
       "      <td>...</td>\n",
       "      <td>...</td>\n",
       "      <td>...</td>\n",
       "      <td>...</td>\n",
       "    </tr>\n",
       "    <tr>\n",
       "      <th>10970</th>\n",
       "      <td>https://sfbayview.com/2021/05/to-ccsf-trustee-...</td>\n",
       "      <td>CCSF students placed at risk of death by riot ...</td>\n",
       "      <td>2021-05-14T04:51:00.0000000Z</td>\n",
       "      <td>Sean Monterrosa</td>\n",
       "      <td>San Francisco Bay View</td>\n",
       "      <td>18194</td>\n",
       "    </tr>\n",
       "    <tr>\n",
       "      <th>10975</th>\n",
       "      <td>https://www.courier-journal.com/story/opinion/...</td>\n",
       "      <td>Once again, Commonwealth's Attorney Tom Wine b...</td>\n",
       "      <td>2021-05-27T09:32:00.0000000Z</td>\n",
       "      <td>David McAtee</td>\n",
       "      <td>Courier-Journal</td>\n",
       "      <td>18195</td>\n",
       "    </tr>\n",
       "    <tr>\n",
       "      <th>11003</th>\n",
       "      <td>https://news.yahoo.com/activists-leaders-mcate...</td>\n",
       "      <td>Some activists and elected officials say the J...</td>\n",
       "      <td>2021-05-27T03:28:00.0000000Z</td>\n",
       "      <td>David McAtee</td>\n",
       "      <td>Yahoo News</td>\n",
       "      <td>18196</td>\n",
       "    </tr>\n",
       "    <tr>\n",
       "      <th>11005</th>\n",
       "      <td>https://www.newsweek.com/full-list-229-black-p...</td>\n",
       "      <td>U.S. George Floyd Police Killings Police bruta...</td>\n",
       "      <td>2021-05-25T11:09:00.0000000Z</td>\n",
       "      <td>David McAtee</td>\n",
       "      <td>Newsweek</td>\n",
       "      <td>18197</td>\n",
       "    </tr>\n",
       "    <tr>\n",
       "      <th>11007</th>\n",
       "      <td>https://www.wgbh.org/news/national-news/2020/0...</td>\n",
       "      <td>The white Atlanta police officer who shot a 27...</td>\n",
       "      <td>2021-05-25T10:21:00.0000000Z</td>\n",
       "      <td>David McAtee</td>\n",
       "      <td>WGBH</td>\n",
       "      <td>18198</td>\n",
       "    </tr>\n",
       "  </tbody>\n",
       "</table>\n",
       "<p>18198 rows × 6 columns</p>\n",
       "</div>"
      ],
      "text/plain": [
       "                                                     url  \\\n",
       "0      https://www.dallasnews.com/news/crime/2021/05/...   \n",
       "1      https://www.newsweek.com/full-list-229-black-p...   \n",
       "2      https://news.yahoo.com/george-floyd-anniversar...   \n",
       "5      https://www.nydailynews.com/news/national/ny-d...   \n",
       "6      https://www.wfaa.com/article/news/local/video-...   \n",
       "...                                                  ...   \n",
       "10970  https://sfbayview.com/2021/05/to-ccsf-trustee-...   \n",
       "10975  https://www.courier-journal.com/story/opinion/...   \n",
       "11003  https://news.yahoo.com/activists-leaders-mcate...   \n",
       "11005  https://www.newsweek.com/full-list-229-black-p...   \n",
       "11007  https://www.wgbh.org/news/national-news/2020/0...   \n",
       "\n",
       "                                             description  \\\n",
       "0      He was identified by police Monday afternoon a...   \n",
       "1      U.S. George Floyd Police Killings Police bruta...   \n",
       "2      Relatives say police had been told young man w...   \n",
       "5      Two police officers in a Dallas suburb fatally...   \n",
       "6      MESQUITE, Texas — Mesquite police haven’t rele...   \n",
       "...                                                  ...   \n",
       "10970  CCSF students placed at risk of death by riot ...   \n",
       "10975  Once again, Commonwealth's Attorney Tom Wine b...   \n",
       "11003  Some activists and elected officials say the J...   \n",
       "11005  U.S. George Floyd Police Killings Police bruta...   \n",
       "11007  The white Atlanta police officer who shot a 27...   \n",
       "\n",
       "                      datePublished           victim                  source  \\\n",
       "0      2021-05-11T00:56:00.0000000Z     Kalon Horton     Dallas Morning News   \n",
       "1      2021-05-25T11:09:00.0000000Z     Kalon Horton                Newsweek   \n",
       "2      2021-05-25T08:00:00.0000000Z     Ashton Pinke              YAHOO!News   \n",
       "5      2021-05-04T23:55:00.0000000Z     Ashton Pinke     New York Daily News   \n",
       "6      2021-05-15T16:49:00.0000000Z     Ashton Pinke                   WFAA8   \n",
       "...                             ...              ...                     ...   \n",
       "10970  2021-05-14T04:51:00.0000000Z  Sean Monterrosa  San Francisco Bay View   \n",
       "10975  2021-05-27T09:32:00.0000000Z     David McAtee         Courier-Journal   \n",
       "11003  2021-05-27T03:28:00.0000000Z     David McAtee              Yahoo News   \n",
       "11005  2021-05-25T11:09:00.0000000Z     David McAtee                Newsweek   \n",
       "11007  2021-05-25T10:21:00.0000000Z     David McAtee                    WGBH   \n",
       "\n",
       "       index  \n",
       "0          1  \n",
       "1          2  \n",
       "2          3  \n",
       "5          4  \n",
       "6          5  \n",
       "...      ...  \n",
       "10970  18194  \n",
       "10975  18195  \n",
       "11003  18196  \n",
       "11005  18197  \n",
       "11007  18198  \n",
       "\n",
       "[18198 rows x 6 columns]"
      ]
     },
     "execution_count": 10,
     "metadata": {},
     "output_type": "execute_result"
    }
   ],
   "source": [
    "victims"
   ]
  },
  {
   "cell_type": "code",
   "execution_count": 11,
   "metadata": {},
   "outputs": [],
   "source": [
    "victims = victims.set_index('index')"
   ]
  },
  {
   "cell_type": "code",
   "execution_count": 13,
   "metadata": {},
   "outputs": [],
   "source": [
    "victims.to_csv('data/victims.csv',index=False)"
   ]
  }
 ],
 "metadata": {
  "kernelspec": {
   "display_name": "Python 3",
   "language": "python",
   "name": "python3"
  },
  "language_info": {
   "codemirror_mode": {
    "name": "ipython",
    "version": 3
   },
   "file_extension": ".py",
   "mimetype": "text/x-python",
   "name": "python",
   "nbconvert_exporter": "python",
   "pygments_lexer": "ipython3",
   "version": "3.8.3"
  }
 },
 "nbformat": 4,
 "nbformat_minor": 4
}
