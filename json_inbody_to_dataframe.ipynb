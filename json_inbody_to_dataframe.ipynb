{
 "cells": [
  {
   "cell_type": "code",
   "execution_count": 1,
   "metadata": {},
   "outputs": [],
   "source": [
    "import json\n",
    "import pandas as pd\n",
    "from io import StringIO\n",
    "import glob"
   ]
  },
  {
   "cell_type": "code",
   "execution_count": 2,
   "metadata": {},
   "outputs": [],
   "source": [
    "file_list = glob.glob('data/inbody/articlesinbody*')"
   ]
  },
  {
   "cell_type": "code",
   "execution_count": 3,
   "metadata": {},
   "outputs": [],
   "source": [
    "dfs=pd.DataFrame()\n",
    "for file in file_list:\n",
    "    with open(file) as fi:\n",
    "        json_data = json.load(fi)\n",
    "    victim = json_data['queryContext']['originalQuery'].split('+inbody')[0].strip('\"') #Extract the victim's name\n",
    "    if 'totalEstimatedMatches' in json_data:\n",
    "        matches = json_data['totalEstimatedMatches'] #Extract the number of matches\n",
    "    else:\n",
    "        matches = 0\n",
    "    df = pd.read_json(StringIO(json.dumps(json_data['value'])))    #Take the value portion, convert to string and then feed to pandas using StringIO\n",
    "    df['victim'] = victim\n",
    "    df['matches'] = matches\n",
    "    dfs = dfs.append(df, ignore_index=True)"
   ]
  },
  {
   "cell_type": "code",
   "execution_count": 4,
   "metadata": {},
   "outputs": [
    {
     "data": {
      "text/plain": [
       "(52823, 12)"
      ]
     },
     "execution_count": 4,
     "metadata": {},
     "output_type": "execute_result"
    }
   ],
   "source": [
    "dfs.shape"
   ]
  },
  {
   "cell_type": "code",
   "execution_count": 5,
   "metadata": {},
   "outputs": [],
   "source": [
    "droplist = ['name','about','category','image','matches','mentions','video']\n",
    "dfs.drop(droplist,axis=1,inplace=True)"
   ]
  },
  {
   "cell_type": "code",
   "execution_count": 6,
   "metadata": {},
   "outputs": [
    {
     "data": {
      "text/html": [
       "<div>\n",
       "<style scoped>\n",
       "    .dataframe tbody tr th:only-of-type {\n",
       "        vertical-align: middle;\n",
       "    }\n",
       "\n",
       "    .dataframe tbody tr th {\n",
       "        vertical-align: top;\n",
       "    }\n",
       "\n",
       "    .dataframe thead th {\n",
       "        text-align: right;\n",
       "    }\n",
       "</style>\n",
       "<table border=\"1\" class=\"dataframe\">\n",
       "  <thead>\n",
       "    <tr style=\"text-align: right;\">\n",
       "      <th></th>\n",
       "      <th>url</th>\n",
       "      <th>description</th>\n",
       "      <th>provider</th>\n",
       "      <th>datePublished</th>\n",
       "      <th>victim</th>\n",
       "    </tr>\n",
       "  </thead>\n",
       "  <tbody>\n",
       "    <tr>\n",
       "      <th>0</th>\n",
       "      <td>https://www.dallasnews.com/news/crime/2021/05/...</td>\n",
       "      <td>He was identified by police Monday afternoon a...</td>\n",
       "      <td>[{'_type': 'Organization', 'name': 'Dallas Mor...</td>\n",
       "      <td>2021-05-11T00:56:00.0000000Z</td>\n",
       "      <td>Kalon Horton</td>\n",
       "    </tr>\n",
       "    <tr>\n",
       "      <th>1</th>\n",
       "      <td>https://www.newsweek.com/full-list-229-black-p...</td>\n",
       "      <td>U.S. George Floyd Police Killings Police bruta...</td>\n",
       "      <td>[{'_type': 'Organization', 'name': 'Newsweek'}]</td>\n",
       "      <td>2021-05-25T11:09:00.0000000Z</td>\n",
       "      <td>Kalon Horton</td>\n",
       "    </tr>\n",
       "    <tr>\n",
       "      <th>2</th>\n",
       "      <td>https://news.yahoo.com/george-floyd-anniversar...</td>\n",
       "      <td>Relatives say police had been told young man w...</td>\n",
       "      <td>[{'_type': 'Organization', 'name': 'YAHOO!News...</td>\n",
       "      <td>2021-05-25T08:00:00.0000000Z</td>\n",
       "      <td>Ashton Pinke</td>\n",
       "    </tr>\n",
       "    <tr>\n",
       "      <th>3</th>\n",
       "      <td>https://dfw.cbslocal.com/2021/05/04/family-ash...</td>\n",
       "      <td>Ashton Pinke (credit: Pinke family ... Mark Br...</td>\n",
       "      <td>[{'_type': 'Organization', 'name': 'CBS DFW'}]</td>\n",
       "      <td>2021-05-05T02:51:00.0000000Z</td>\n",
       "      <td>Ashton Pinke</td>\n",
       "    </tr>\n",
       "    <tr>\n",
       "      <th>4</th>\n",
       "      <td>https://dfw.cbslocal.com/2021/05/07/mesquite-p...</td>\n",
       "      <td>MESQUITE, Texas (CBSDFW.COM) – The Mesquite Po...</td>\n",
       "      <td>[{'_type': 'Organization', 'name': 'CBS DFW'}]</td>\n",
       "      <td>2021-05-08T04:34:00.0000000Z</td>\n",
       "      <td>Ashton Pinke</td>\n",
       "    </tr>\n",
       "  </tbody>\n",
       "</table>\n",
       "</div>"
      ],
      "text/plain": [
       "                                                 url  \\\n",
       "0  https://www.dallasnews.com/news/crime/2021/05/...   \n",
       "1  https://www.newsweek.com/full-list-229-black-p...   \n",
       "2  https://news.yahoo.com/george-floyd-anniversar...   \n",
       "3  https://dfw.cbslocal.com/2021/05/04/family-ash...   \n",
       "4  https://dfw.cbslocal.com/2021/05/07/mesquite-p...   \n",
       "\n",
       "                                         description  \\\n",
       "0  He was identified by police Monday afternoon a...   \n",
       "1  U.S. George Floyd Police Killings Police bruta...   \n",
       "2  Relatives say police had been told young man w...   \n",
       "3  Ashton Pinke (credit: Pinke family ... Mark Br...   \n",
       "4  MESQUITE, Texas (CBSDFW.COM) – The Mesquite Po...   \n",
       "\n",
       "                                            provider  \\\n",
       "0  [{'_type': 'Organization', 'name': 'Dallas Mor...   \n",
       "1    [{'_type': 'Organization', 'name': 'Newsweek'}]   \n",
       "2  [{'_type': 'Organization', 'name': 'YAHOO!News...   \n",
       "3     [{'_type': 'Organization', 'name': 'CBS DFW'}]   \n",
       "4     [{'_type': 'Organization', 'name': 'CBS DFW'}]   \n",
       "\n",
       "                  datePublished        victim  \n",
       "0  2021-05-11T00:56:00.0000000Z  Kalon Horton  \n",
       "1  2021-05-25T11:09:00.0000000Z  Kalon Horton  \n",
       "2  2021-05-25T08:00:00.0000000Z  Ashton Pinke  \n",
       "3  2021-05-05T02:51:00.0000000Z  Ashton Pinke  \n",
       "4  2021-05-08T04:34:00.0000000Z  Ashton Pinke  "
      ]
     },
     "execution_count": 6,
     "metadata": {},
     "output_type": "execute_result"
    }
   ],
   "source": [
    "dfs.head()"
   ]
  },
  {
   "cell_type": "code",
   "execution_count": 7,
   "metadata": {},
   "outputs": [],
   "source": [
    "dfs['index'] = range(1, len(dfs) + 1)"
   ]
  },
  {
   "cell_type": "code",
   "execution_count": 8,
   "metadata": {},
   "outputs": [
    {
     "data": {
      "text/html": [
       "<div>\n",
       "<style scoped>\n",
       "    .dataframe tbody tr th:only-of-type {\n",
       "        vertical-align: middle;\n",
       "    }\n",
       "\n",
       "    .dataframe tbody tr th {\n",
       "        vertical-align: top;\n",
       "    }\n",
       "\n",
       "    .dataframe thead th {\n",
       "        text-align: right;\n",
       "    }\n",
       "</style>\n",
       "<table border=\"1\" class=\"dataframe\">\n",
       "  <thead>\n",
       "    <tr style=\"text-align: right;\">\n",
       "      <th></th>\n",
       "      <th>url</th>\n",
       "      <th>description</th>\n",
       "      <th>provider</th>\n",
       "      <th>datePublished</th>\n",
       "      <th>victim</th>\n",
       "      <th>index</th>\n",
       "    </tr>\n",
       "  </thead>\n",
       "  <tbody>\n",
       "    <tr>\n",
       "      <th>0</th>\n",
       "      <td>https://www.dallasnews.com/news/crime/2021/05/...</td>\n",
       "      <td>He was identified by police Monday afternoon a...</td>\n",
       "      <td>[{'_type': 'Organization', 'name': 'Dallas Mor...</td>\n",
       "      <td>2021-05-11T00:56:00.0000000Z</td>\n",
       "      <td>Kalon Horton</td>\n",
       "      <td>1</td>\n",
       "    </tr>\n",
       "    <tr>\n",
       "      <th>1</th>\n",
       "      <td>https://www.newsweek.com/full-list-229-black-p...</td>\n",
       "      <td>U.S. George Floyd Police Killings Police bruta...</td>\n",
       "      <td>[{'_type': 'Organization', 'name': 'Newsweek'}]</td>\n",
       "      <td>2021-05-25T11:09:00.0000000Z</td>\n",
       "      <td>Kalon Horton</td>\n",
       "      <td>2</td>\n",
       "    </tr>\n",
       "    <tr>\n",
       "      <th>2</th>\n",
       "      <td>https://news.yahoo.com/george-floyd-anniversar...</td>\n",
       "      <td>Relatives say police had been told young man w...</td>\n",
       "      <td>[{'_type': 'Organization', 'name': 'YAHOO!News...</td>\n",
       "      <td>2021-05-25T08:00:00.0000000Z</td>\n",
       "      <td>Ashton Pinke</td>\n",
       "      <td>3</td>\n",
       "    </tr>\n",
       "    <tr>\n",
       "      <th>3</th>\n",
       "      <td>https://dfw.cbslocal.com/2021/05/04/family-ash...</td>\n",
       "      <td>Ashton Pinke (credit: Pinke family ... Mark Br...</td>\n",
       "      <td>[{'_type': 'Organization', 'name': 'CBS DFW'}]</td>\n",
       "      <td>2021-05-05T02:51:00.0000000Z</td>\n",
       "      <td>Ashton Pinke</td>\n",
       "      <td>4</td>\n",
       "    </tr>\n",
       "    <tr>\n",
       "      <th>4</th>\n",
       "      <td>https://dfw.cbslocal.com/2021/05/07/mesquite-p...</td>\n",
       "      <td>MESQUITE, Texas (CBSDFW.COM) – The Mesquite Po...</td>\n",
       "      <td>[{'_type': 'Organization', 'name': 'CBS DFW'}]</td>\n",
       "      <td>2021-05-08T04:34:00.0000000Z</td>\n",
       "      <td>Ashton Pinke</td>\n",
       "      <td>5</td>\n",
       "    </tr>\n",
       "  </tbody>\n",
       "</table>\n",
       "</div>"
      ],
      "text/plain": [
       "                                                 url  \\\n",
       "0  https://www.dallasnews.com/news/crime/2021/05/...   \n",
       "1  https://www.newsweek.com/full-list-229-black-p...   \n",
       "2  https://news.yahoo.com/george-floyd-anniversar...   \n",
       "3  https://dfw.cbslocal.com/2021/05/04/family-ash...   \n",
       "4  https://dfw.cbslocal.com/2021/05/07/mesquite-p...   \n",
       "\n",
       "                                         description  \\\n",
       "0  He was identified by police Monday afternoon a...   \n",
       "1  U.S. George Floyd Police Killings Police bruta...   \n",
       "2  Relatives say police had been told young man w...   \n",
       "3  Ashton Pinke (credit: Pinke family ... Mark Br...   \n",
       "4  MESQUITE, Texas (CBSDFW.COM) – The Mesquite Po...   \n",
       "\n",
       "                                            provider  \\\n",
       "0  [{'_type': 'Organization', 'name': 'Dallas Mor...   \n",
       "1    [{'_type': 'Organization', 'name': 'Newsweek'}]   \n",
       "2  [{'_type': 'Organization', 'name': 'YAHOO!News...   \n",
       "3     [{'_type': 'Organization', 'name': 'CBS DFW'}]   \n",
       "4     [{'_type': 'Organization', 'name': 'CBS DFW'}]   \n",
       "\n",
       "                  datePublished        victim  index  \n",
       "0  2021-05-11T00:56:00.0000000Z  Kalon Horton      1  \n",
       "1  2021-05-25T11:09:00.0000000Z  Kalon Horton      2  \n",
       "2  2021-05-25T08:00:00.0000000Z  Ashton Pinke      3  \n",
       "3  2021-05-05T02:51:00.0000000Z  Ashton Pinke      4  \n",
       "4  2021-05-08T04:34:00.0000000Z  Ashton Pinke      5  "
      ]
     },
     "execution_count": 8,
     "metadata": {},
     "output_type": "execute_result"
    }
   ],
   "source": [
    "dfs.head()"
   ]
  },
  {
   "cell_type": "code",
   "execution_count": 9,
   "metadata": {},
   "outputs": [],
   "source": [
    "dfs = dfs.set_index('index')"
   ]
  },
  {
   "cell_type": "code",
   "execution_count": 11,
   "metadata": {},
   "outputs": [],
   "source": [
    "test = dfs.dropna()"
   ]
  },
  {
   "cell_type": "code",
   "execution_count": 12,
   "metadata": {},
   "outputs": [
    {
     "data": {
      "text/plain": [
       "(52823, 5)"
      ]
     },
     "execution_count": 12,
     "metadata": {},
     "output_type": "execute_result"
    }
   ],
   "source": [
    "test.shape"
   ]
  },
  {
   "cell_type": "code",
   "execution_count": 13,
   "metadata": {},
   "outputs": [
    {
     "data": {
      "text/plain": [
       "(52823, 5)"
      ]
     },
     "execution_count": 13,
     "metadata": {},
     "output_type": "execute_result"
    }
   ],
   "source": [
    "dfs.shape"
   ]
  },
  {
   "cell_type": "code",
   "execution_count": 14,
   "metadata": {},
   "outputs": [],
   "source": [
    "name = [x.get('name')  for d in df['provider'] if d for x in d]"
   ]
  },
  {
   "cell_type": "code",
   "execution_count": 15,
   "metadata": {},
   "outputs": [],
   "source": [
    "x = dfs['provider']\n",
    "for x in dfs:\n",
    "    x = [y.get('name')  for d in dfs['provider'] if d for y in d]\n",
    "dfs['source'] = x"
   ]
  },
  {
   "cell_type": "code",
   "execution_count": 16,
   "metadata": {},
   "outputs": [
    {
     "data": {
      "text/plain": [
       "(52823, 6)"
      ]
     },
     "execution_count": 16,
     "metadata": {},
     "output_type": "execute_result"
    }
   ],
   "source": [
    "dfs.shape"
   ]
  },
  {
   "cell_type": "code",
   "execution_count": 17,
   "metadata": {},
   "outputs": [
    {
     "data": {
      "text/html": [
       "<div>\n",
       "<style scoped>\n",
       "    .dataframe tbody tr th:only-of-type {\n",
       "        vertical-align: middle;\n",
       "    }\n",
       "\n",
       "    .dataframe tbody tr th {\n",
       "        vertical-align: top;\n",
       "    }\n",
       "\n",
       "    .dataframe thead th {\n",
       "        text-align: right;\n",
       "    }\n",
       "</style>\n",
       "<table border=\"1\" class=\"dataframe\">\n",
       "  <thead>\n",
       "    <tr style=\"text-align: right;\">\n",
       "      <th></th>\n",
       "      <th>url</th>\n",
       "      <th>description</th>\n",
       "      <th>provider</th>\n",
       "      <th>datePublished</th>\n",
       "      <th>victim</th>\n",
       "      <th>source</th>\n",
       "    </tr>\n",
       "    <tr>\n",
       "      <th>index</th>\n",
       "      <th></th>\n",
       "      <th></th>\n",
       "      <th></th>\n",
       "      <th></th>\n",
       "      <th></th>\n",
       "      <th></th>\n",
       "    </tr>\n",
       "  </thead>\n",
       "  <tbody>\n",
       "    <tr>\n",
       "      <th>1</th>\n",
       "      <td>https://www.dallasnews.com/news/crime/2021/05/...</td>\n",
       "      <td>He was identified by police Monday afternoon a...</td>\n",
       "      <td>[{'_type': 'Organization', 'name': 'Dallas Mor...</td>\n",
       "      <td>2021-05-11T00:56:00.0000000Z</td>\n",
       "      <td>Kalon Horton</td>\n",
       "      <td>Dallas Morning News</td>\n",
       "    </tr>\n",
       "    <tr>\n",
       "      <th>2</th>\n",
       "      <td>https://www.newsweek.com/full-list-229-black-p...</td>\n",
       "      <td>U.S. George Floyd Police Killings Police bruta...</td>\n",
       "      <td>[{'_type': 'Organization', 'name': 'Newsweek'}]</td>\n",
       "      <td>2021-05-25T11:09:00.0000000Z</td>\n",
       "      <td>Kalon Horton</td>\n",
       "      <td>Newsweek</td>\n",
       "    </tr>\n",
       "    <tr>\n",
       "      <th>3</th>\n",
       "      <td>https://news.yahoo.com/george-floyd-anniversar...</td>\n",
       "      <td>Relatives say police had been told young man w...</td>\n",
       "      <td>[{'_type': 'Organization', 'name': 'YAHOO!News...</td>\n",
       "      <td>2021-05-25T08:00:00.0000000Z</td>\n",
       "      <td>Ashton Pinke</td>\n",
       "      <td>YAHOO!News</td>\n",
       "    </tr>\n",
       "    <tr>\n",
       "      <th>4</th>\n",
       "      <td>https://dfw.cbslocal.com/2021/05/04/family-ash...</td>\n",
       "      <td>Ashton Pinke (credit: Pinke family ... Mark Br...</td>\n",
       "      <td>[{'_type': 'Organization', 'name': 'CBS DFW'}]</td>\n",
       "      <td>2021-05-05T02:51:00.0000000Z</td>\n",
       "      <td>Ashton Pinke</td>\n",
       "      <td>CBS DFW</td>\n",
       "    </tr>\n",
       "    <tr>\n",
       "      <th>5</th>\n",
       "      <td>https://dfw.cbslocal.com/2021/05/07/mesquite-p...</td>\n",
       "      <td>MESQUITE, Texas (CBSDFW.COM) – The Mesquite Po...</td>\n",
       "      <td>[{'_type': 'Organization', 'name': 'CBS DFW'}]</td>\n",
       "      <td>2021-05-08T04:34:00.0000000Z</td>\n",
       "      <td>Ashton Pinke</td>\n",
       "      <td>CBS DFW</td>\n",
       "    </tr>\n",
       "  </tbody>\n",
       "</table>\n",
       "</div>"
      ],
      "text/plain": [
       "                                                     url  \\\n",
       "index                                                      \n",
       "1      https://www.dallasnews.com/news/crime/2021/05/...   \n",
       "2      https://www.newsweek.com/full-list-229-black-p...   \n",
       "3      https://news.yahoo.com/george-floyd-anniversar...   \n",
       "4      https://dfw.cbslocal.com/2021/05/04/family-ash...   \n",
       "5      https://dfw.cbslocal.com/2021/05/07/mesquite-p...   \n",
       "\n",
       "                                             description  \\\n",
       "index                                                      \n",
       "1      He was identified by police Monday afternoon a...   \n",
       "2      U.S. George Floyd Police Killings Police bruta...   \n",
       "3      Relatives say police had been told young man w...   \n",
       "4      Ashton Pinke (credit: Pinke family ... Mark Br...   \n",
       "5      MESQUITE, Texas (CBSDFW.COM) – The Mesquite Po...   \n",
       "\n",
       "                                                provider  \\\n",
       "index                                                      \n",
       "1      [{'_type': 'Organization', 'name': 'Dallas Mor...   \n",
       "2        [{'_type': 'Organization', 'name': 'Newsweek'}]   \n",
       "3      [{'_type': 'Organization', 'name': 'YAHOO!News...   \n",
       "4         [{'_type': 'Organization', 'name': 'CBS DFW'}]   \n",
       "5         [{'_type': 'Organization', 'name': 'CBS DFW'}]   \n",
       "\n",
       "                      datePublished        victim               source  \n",
       "index                                                                   \n",
       "1      2021-05-11T00:56:00.0000000Z  Kalon Horton  Dallas Morning News  \n",
       "2      2021-05-25T11:09:00.0000000Z  Kalon Horton             Newsweek  \n",
       "3      2021-05-25T08:00:00.0000000Z  Ashton Pinke           YAHOO!News  \n",
       "4      2021-05-05T02:51:00.0000000Z  Ashton Pinke              CBS DFW  \n",
       "5      2021-05-08T04:34:00.0000000Z  Ashton Pinke              CBS DFW  "
      ]
     },
     "execution_count": 17,
     "metadata": {},
     "output_type": "execute_result"
    }
   ],
   "source": [
    "dfs.head()"
   ]
  },
  {
   "cell_type": "code",
   "execution_count": 18,
   "metadata": {},
   "outputs": [],
   "source": [
    "dfs.drop(['provider'],axis=1,inplace=True)"
   ]
  },
  {
   "cell_type": "code",
   "execution_count": 19,
   "metadata": {},
   "outputs": [
    {
     "data": {
      "text/plain": [
       "(52823, 5)"
      ]
     },
     "execution_count": 19,
     "metadata": {},
     "output_type": "execute_result"
    }
   ],
   "source": [
    "dfs.shape"
   ]
  },
  {
   "cell_type": "code",
   "execution_count": 20,
   "metadata": {},
   "outputs": [
    {
     "data": {
      "text/html": [
       "<div>\n",
       "<style scoped>\n",
       "    .dataframe tbody tr th:only-of-type {\n",
       "        vertical-align: middle;\n",
       "    }\n",
       "\n",
       "    .dataframe tbody tr th {\n",
       "        vertical-align: top;\n",
       "    }\n",
       "\n",
       "    .dataframe thead th {\n",
       "        text-align: right;\n",
       "    }\n",
       "</style>\n",
       "<table border=\"1\" class=\"dataframe\">\n",
       "  <thead>\n",
       "    <tr style=\"text-align: right;\">\n",
       "      <th></th>\n",
       "      <th>url</th>\n",
       "      <th>description</th>\n",
       "      <th>datePublished</th>\n",
       "      <th>victim</th>\n",
       "      <th>source</th>\n",
       "    </tr>\n",
       "    <tr>\n",
       "      <th>index</th>\n",
       "      <th></th>\n",
       "      <th></th>\n",
       "      <th></th>\n",
       "      <th></th>\n",
       "      <th></th>\n",
       "    </tr>\n",
       "  </thead>\n",
       "  <tbody>\n",
       "    <tr>\n",
       "      <th>1</th>\n",
       "      <td>https://www.dallasnews.com/news/crime/2021/05/...</td>\n",
       "      <td>He was identified by police Monday afternoon a...</td>\n",
       "      <td>2021-05-11T00:56:00.0000000Z</td>\n",
       "      <td>Kalon Horton</td>\n",
       "      <td>Dallas Morning News</td>\n",
       "    </tr>\n",
       "    <tr>\n",
       "      <th>2</th>\n",
       "      <td>https://www.newsweek.com/full-list-229-black-p...</td>\n",
       "      <td>U.S. George Floyd Police Killings Police bruta...</td>\n",
       "      <td>2021-05-25T11:09:00.0000000Z</td>\n",
       "      <td>Kalon Horton</td>\n",
       "      <td>Newsweek</td>\n",
       "    </tr>\n",
       "    <tr>\n",
       "      <th>3</th>\n",
       "      <td>https://news.yahoo.com/george-floyd-anniversar...</td>\n",
       "      <td>Relatives say police had been told young man w...</td>\n",
       "      <td>2021-05-25T08:00:00.0000000Z</td>\n",
       "      <td>Ashton Pinke</td>\n",
       "      <td>YAHOO!News</td>\n",
       "    </tr>\n",
       "    <tr>\n",
       "      <th>4</th>\n",
       "      <td>https://dfw.cbslocal.com/2021/05/04/family-ash...</td>\n",
       "      <td>Ashton Pinke (credit: Pinke family ... Mark Br...</td>\n",
       "      <td>2021-05-05T02:51:00.0000000Z</td>\n",
       "      <td>Ashton Pinke</td>\n",
       "      <td>CBS DFW</td>\n",
       "    </tr>\n",
       "    <tr>\n",
       "      <th>5</th>\n",
       "      <td>https://dfw.cbslocal.com/2021/05/07/mesquite-p...</td>\n",
       "      <td>MESQUITE, Texas (CBSDFW.COM) – The Mesquite Po...</td>\n",
       "      <td>2021-05-08T04:34:00.0000000Z</td>\n",
       "      <td>Ashton Pinke</td>\n",
       "      <td>CBS DFW</td>\n",
       "    </tr>\n",
       "  </tbody>\n",
       "</table>\n",
       "</div>"
      ],
      "text/plain": [
       "                                                     url  \\\n",
       "index                                                      \n",
       "1      https://www.dallasnews.com/news/crime/2021/05/...   \n",
       "2      https://www.newsweek.com/full-list-229-black-p...   \n",
       "3      https://news.yahoo.com/george-floyd-anniversar...   \n",
       "4      https://dfw.cbslocal.com/2021/05/04/family-ash...   \n",
       "5      https://dfw.cbslocal.com/2021/05/07/mesquite-p...   \n",
       "\n",
       "                                             description  \\\n",
       "index                                                      \n",
       "1      He was identified by police Monday afternoon a...   \n",
       "2      U.S. George Floyd Police Killings Police bruta...   \n",
       "3      Relatives say police had been told young man w...   \n",
       "4      Ashton Pinke (credit: Pinke family ... Mark Br...   \n",
       "5      MESQUITE, Texas (CBSDFW.COM) – The Mesquite Po...   \n",
       "\n",
       "                      datePublished        victim               source  \n",
       "index                                                                   \n",
       "1      2021-05-11T00:56:00.0000000Z  Kalon Horton  Dallas Morning News  \n",
       "2      2021-05-25T11:09:00.0000000Z  Kalon Horton             Newsweek  \n",
       "3      2021-05-25T08:00:00.0000000Z  Ashton Pinke           YAHOO!News  \n",
       "4      2021-05-05T02:51:00.0000000Z  Ashton Pinke              CBS DFW  \n",
       "5      2021-05-08T04:34:00.0000000Z  Ashton Pinke              CBS DFW  "
      ]
     },
     "execution_count": 20,
     "metadata": {},
     "output_type": "execute_result"
    }
   ],
   "source": [
    "dfs.head()"
   ]
  },
  {
   "cell_type": "code",
   "execution_count": 22,
   "metadata": {},
   "outputs": [],
   "source": [
    "dfs.to_csv('data/inbody.csv',index=False)"
   ]
  }
 ],
 "metadata": {
  "kernelspec": {
   "display_name": "Python 3",
   "language": "python",
   "name": "python3"
  },
  "language_info": {
   "codemirror_mode": {
    "name": "ipython",
    "version": 3
   },
   "file_extension": ".py",
   "mimetype": "text/x-python",
   "name": "python",
   "nbconvert_exporter": "python",
   "pygments_lexer": "ipython3",
   "version": "3.8.3"
  }
 },
 "nbformat": 4,
 "nbformat_minor": 4
}
