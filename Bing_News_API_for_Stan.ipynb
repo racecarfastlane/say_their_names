{
 "cells": [
  {
   "cell_type": "code",
   "execution_count": 1,
   "metadata": {},
   "outputs": [],
   "source": [
    "import requests\n",
    "import json\n",
    "import pandas as pd"
   ]
  },
  {
   "cell_type": "code",
   "execution_count": 2,
   "metadata": {},
   "outputs": [],
   "source": [
    "mpv_db_pk = pd.read_csv('data/mpv_db_pk.csv')"
   ]
  },
  {
   "cell_type": "code",
   "execution_count": 3,
   "metadata": {},
   "outputs": [],
   "source": [
    "#subscription_key = \"\"\n",
    "search_url = \"https://api.bing.microsoft.com/v7.0/news/search\"\n",
    "headers = {\"Ocp-Apim-Subscription-Key\" : subscription_key}"
   ]
  },
  {
   "cell_type": "code",
   "execution_count": 93,
   "metadata": {},
   "outputs": [
    {
     "ename": "AttributeError",
     "evalue": "'str' object has no attribute 'update'",
     "output_type": "error",
     "traceback": [
      "\u001b[1;31m---------------------------------------------------------------------------\u001b[0m",
      "\u001b[1;31mAttributeError\u001b[0m                            Traceback (most recent call last)",
      "\u001b[1;32m<ipython-input-93-ab7bbba5cac9>\u001b[0m in \u001b[0;36m<module>\u001b[1;34m\u001b[0m\n\u001b[0;32m      5\u001b[0m         \u001b[1;32mwith\u001b[0m \u001b[0mopen\u001b[0m\u001b[1;33m(\u001b[0m\u001b[1;34m'data/articles.json'\u001b[0m\u001b[1;33m,\u001b[0m \u001b[1;34m'r+'\u001b[0m\u001b[1;33m)\u001b[0m \u001b[1;32mas\u001b[0m \u001b[0mf\u001b[0m\u001b[1;33m:\u001b[0m\u001b[1;33m\u001b[0m\u001b[1;33m\u001b[0m\u001b[0m\n\u001b[0;32m      6\u001b[0m             \u001b[0mfile_data\u001b[0m \u001b[1;33m=\u001b[0m \u001b[0mjson\u001b[0m\u001b[1;33m.\u001b[0m\u001b[0mload\u001b[0m\u001b[1;33m(\u001b[0m\u001b[0mf\u001b[0m\u001b[1;33m)\u001b[0m\u001b[1;33m\u001b[0m\u001b[1;33m\u001b[0m\u001b[0m\n\u001b[1;32m----> 7\u001b[1;33m             \u001b[0mfile_data\u001b[0m\u001b[1;33m.\u001b[0m\u001b[0mupdate\u001b[0m\u001b[1;33m(\u001b[0m\u001b[0mresponse\u001b[0m\u001b[1;33m)\u001b[0m\u001b[1;33m\u001b[0m\u001b[1;33m\u001b[0m\u001b[0m\n\u001b[0m\u001b[0;32m      8\u001b[0m             \u001b[0mfile\u001b[0m\u001b[1;33m.\u001b[0m\u001b[0mseek\u001b[0m\u001b[1;33m(\u001b[0m\u001b[1;36m0\u001b[0m\u001b[1;33m)\u001b[0m\u001b[1;33m\u001b[0m\u001b[1;33m\u001b[0m\u001b[0m\n\u001b[0;32m      9\u001b[0m             \u001b[0mjson\u001b[0m\u001b[1;33m.\u001b[0m\u001b[0mdump\u001b[0m\u001b[1;33m(\u001b[0m\u001b[0mfile_data\u001b[0m\u001b[1;33m,\u001b[0m \u001b[0mf\u001b[0m\u001b[1;33m)\u001b[0m\u001b[1;33m\u001b[0m\u001b[1;33m\u001b[0m\u001b[0m\n",
      "\u001b[1;31mAttributeError\u001b[0m: 'str' object has no attribute 'update'"
     ]
    }
   ],
   "source": [
    "for vn in mpv_db_pk['victim_name'].tolist()[:10]:\n",
    "    if vn != 'Name withheld by police':\n",
    "        params  = {\"q\": (vn), \"count\": 100}\n",
    "        response = requests.get(search_url, headers=headers, params=params)\n",
    "        with open('data/articles.json', 'w') as f:\n",
    "            json.dump('data/articles.json', f)\n",
    "            \n",
    "            \n",
    "##instead of trying to append json to json, convert json to pandas df and append the df."
   ]
  },
  {
   "cell_type": "markdown",
   "metadata": {},
   "source": [
    "\n",
    "    "
   ]
  },
  {
   "cell_type": "code",
   "execution_count": 75,
   "metadata": {},
   "outputs": [],
   "source": [
    "df = pd.read_json (r'data/articles.json')"
   ]
  },
  {
   "cell_type": "code",
   "execution_count": 76,
   "metadata": {},
   "outputs": [
    {
     "data": {
      "text/plain": [
       "Index(['name', 'url', 'description', 'about', 'provider', 'datePublished',\n",
       "       'category', 'image', 'mentions', 'video'],\n",
       "      dtype='object')"
      ]
     },
     "execution_count": 76,
     "metadata": {},
     "output_type": "execute_result"
    }
   ],
   "source": [
    "df.columns"
   ]
  },
  {
   "cell_type": "code",
   "execution_count": 92,
   "metadata": {},
   "outputs": [
    {
     "data": {
      "text/plain": [
       "(85, 5)"
      ]
     },
     "execution_count": 92,
     "metadata": {},
     "output_type": "execute_result"
    }
   ],
   "source": [
    "df.shape"
   ]
  },
  {
   "cell_type": "code",
   "execution_count": 78,
   "metadata": {},
   "outputs": [],
   "source": [
    "droplist = ['url','about','image','mentions','video']\n",
    "df.drop(droplist,axis=1,inplace=True)"
   ]
  },
  {
   "cell_type": "code",
   "execution_count": 80,
   "metadata": {},
   "outputs": [],
   "source": [
    "df['datePublished'] = df['datePublished'].str[:10]"
   ]
  },
  {
   "cell_type": "code",
   "execution_count": 81,
   "metadata": {},
   "outputs": [
    {
     "data": {
      "text/html": [
       "<div>\n",
       "<style scoped>\n",
       "    .dataframe tbody tr th:only-of-type {\n",
       "        vertical-align: middle;\n",
       "    }\n",
       "\n",
       "    .dataframe tbody tr th {\n",
       "        vertical-align: top;\n",
       "    }\n",
       "\n",
       "    .dataframe thead th {\n",
       "        text-align: right;\n",
       "    }\n",
       "</style>\n",
       "<table border=\"1\" class=\"dataframe\">\n",
       "  <thead>\n",
       "    <tr style=\"text-align: right;\">\n",
       "      <th></th>\n",
       "      <th>name</th>\n",
       "      <th>description</th>\n",
       "      <th>provider</th>\n",
       "      <th>datePublished</th>\n",
       "      <th>category</th>\n",
       "    </tr>\n",
       "  </thead>\n",
       "  <tbody>\n",
       "    <tr>\n",
       "      <th>0</th>\n",
       "      <td>Police shooting suspect identified</td>\n",
       "      <td>A man shot and killed by a deputy at a Washing...</td>\n",
       "      <td>[{'_type': 'Organization', 'name': 'Southwest ...</td>\n",
       "      <td>2021-01-05</td>\n",
       "      <td>US</td>\n",
       "    </tr>\n",
       "    <tr>\n",
       "      <th>1</th>\n",
       "      <td>VSP identifies suspect fatally shot by Washing...</td>\n",
       "      <td>Virginia State Police said Brandon S. Odell, 3...</td>\n",
       "      <td>[{'_type': 'Organization', 'name': 'WJHL-TV'}]</td>\n",
       "      <td>2021-05-21</td>\n",
       "      <td>US</td>\n",
       "    </tr>\n",
       "    <tr>\n",
       "      <th>2</th>\n",
       "      <td>VSP: Bristol, Tenn. man died in officer-involv...</td>\n",
       "      <td>On Friday, VSP identfied the man as 31-year-ol...</td>\n",
       "      <td>[{'_type': 'Organization', 'name': 'Bristol He...</td>\n",
       "      <td>2021-05-22</td>\n",
       "      <td>US</td>\n",
       "    </tr>\n",
       "    <tr>\n",
       "      <th>3</th>\n",
       "      <td>Name released of man shot and killed by deputy...</td>\n",
       "      <td>When deputies arrived at the motel room of Bra...</td>\n",
       "      <td>[{'_type': 'Organization', 'name': 'MSN'}]</td>\n",
       "      <td>2021-05-21</td>\n",
       "      <td>US</td>\n",
       "    </tr>\n",
       "    <tr>\n",
       "      <th>4</th>\n",
       "      <td>24,000 fish restocked across East Anglia</td>\n",
       "      <td>The Environment Agency has replenished fish st...</td>\n",
       "      <td>[{'_type': 'Organization', 'name': 'gov.uk'}]</td>\n",
       "      <td>2021-05-13</td>\n",
       "      <td>NaN</td>\n",
       "    </tr>\n",
       "  </tbody>\n",
       "</table>\n",
       "</div>"
      ],
      "text/plain": [
       "                                                name  \\\n",
       "0                 Police shooting suspect identified   \n",
       "1  VSP identifies suspect fatally shot by Washing...   \n",
       "2  VSP: Bristol, Tenn. man died in officer-involv...   \n",
       "3  Name released of man shot and killed by deputy...   \n",
       "4           24,000 fish restocked across East Anglia   \n",
       "\n",
       "                                         description  \\\n",
       "0  A man shot and killed by a deputy at a Washing...   \n",
       "1  Virginia State Police said Brandon S. Odell, 3...   \n",
       "2  On Friday, VSP identfied the man as 31-year-ol...   \n",
       "3  When deputies arrived at the motel room of Bra...   \n",
       "4  The Environment Agency has replenished fish st...   \n",
       "\n",
       "                                            provider datePublished category  \n",
       "0  [{'_type': 'Organization', 'name': 'Southwest ...    2021-01-05       US  \n",
       "1     [{'_type': 'Organization', 'name': 'WJHL-TV'}]    2021-05-21       US  \n",
       "2  [{'_type': 'Organization', 'name': 'Bristol He...    2021-05-22       US  \n",
       "3         [{'_type': 'Organization', 'name': 'MSN'}]    2021-05-21       US  \n",
       "4      [{'_type': 'Organization', 'name': 'gov.uk'}]    2021-05-13      NaN  "
      ]
     },
     "execution_count": 81,
     "metadata": {},
     "output_type": "execute_result"
    }
   ],
   "source": [
    "df.head()"
   ]
  },
  {
   "cell_type": "code",
   "execution_count": 85,
   "metadata": {},
   "outputs": [],
   "source": [
    "name = [d[0].get('name') for d in df['provider']]"
   ]
  },
  {
   "cell_type": "code",
   "execution_count": 87,
   "metadata": {},
   "outputs": [],
   "source": [
    "df['news_source'] = [d[0].get('name') for d in df['provider']]"
   ]
  },
  {
   "cell_type": "code",
   "execution_count": 88,
   "metadata": {},
   "outputs": [
    {
     "data": {
      "text/html": [
       "<div>\n",
       "<style scoped>\n",
       "    .dataframe tbody tr th:only-of-type {\n",
       "        vertical-align: middle;\n",
       "    }\n",
       "\n",
       "    .dataframe tbody tr th {\n",
       "        vertical-align: top;\n",
       "    }\n",
       "\n",
       "    .dataframe thead th {\n",
       "        text-align: right;\n",
       "    }\n",
       "</style>\n",
       "<table border=\"1\" class=\"dataframe\">\n",
       "  <thead>\n",
       "    <tr style=\"text-align: right;\">\n",
       "      <th></th>\n",
       "      <th>name</th>\n",
       "      <th>description</th>\n",
       "      <th>provider</th>\n",
       "      <th>datePublished</th>\n",
       "      <th>category</th>\n",
       "      <th>news_source</th>\n",
       "    </tr>\n",
       "  </thead>\n",
       "  <tbody>\n",
       "    <tr>\n",
       "      <th>0</th>\n",
       "      <td>Police shooting suspect identified</td>\n",
       "      <td>A man shot and killed by a deputy at a Washing...</td>\n",
       "      <td>[{'_type': 'Organization', 'name': 'Southwest ...</td>\n",
       "      <td>2021-01-05</td>\n",
       "      <td>US</td>\n",
       "      <td>Southwest Times</td>\n",
       "    </tr>\n",
       "    <tr>\n",
       "      <th>1</th>\n",
       "      <td>VSP identifies suspect fatally shot by Washing...</td>\n",
       "      <td>Virginia State Police said Brandon S. Odell, 3...</td>\n",
       "      <td>[{'_type': 'Organization', 'name': 'WJHL-TV'}]</td>\n",
       "      <td>2021-05-21</td>\n",
       "      <td>US</td>\n",
       "      <td>WJHL-TV</td>\n",
       "    </tr>\n",
       "    <tr>\n",
       "      <th>2</th>\n",
       "      <td>VSP: Bristol, Tenn. man died in officer-involv...</td>\n",
       "      <td>On Friday, VSP identfied the man as 31-year-ol...</td>\n",
       "      <td>[{'_type': 'Organization', 'name': 'Bristol He...</td>\n",
       "      <td>2021-05-22</td>\n",
       "      <td>US</td>\n",
       "      <td>Bristol Herald Courier</td>\n",
       "    </tr>\n",
       "    <tr>\n",
       "      <th>3</th>\n",
       "      <td>Name released of man shot and killed by deputy...</td>\n",
       "      <td>When deputies arrived at the motel room of Bra...</td>\n",
       "      <td>[{'_type': 'Organization', 'name': 'MSN'}]</td>\n",
       "      <td>2021-05-21</td>\n",
       "      <td>US</td>\n",
       "      <td>MSN</td>\n",
       "    </tr>\n",
       "    <tr>\n",
       "      <th>4</th>\n",
       "      <td>24,000 fish restocked across East Anglia</td>\n",
       "      <td>The Environment Agency has replenished fish st...</td>\n",
       "      <td>[{'_type': 'Organization', 'name': 'gov.uk'}]</td>\n",
       "      <td>2021-05-13</td>\n",
       "      <td>NaN</td>\n",
       "      <td>gov.uk</td>\n",
       "    </tr>\n",
       "  </tbody>\n",
       "</table>\n",
       "</div>"
      ],
      "text/plain": [
       "                                                name  \\\n",
       "0                 Police shooting suspect identified   \n",
       "1  VSP identifies suspect fatally shot by Washing...   \n",
       "2  VSP: Bristol, Tenn. man died in officer-involv...   \n",
       "3  Name released of man shot and killed by deputy...   \n",
       "4           24,000 fish restocked across East Anglia   \n",
       "\n",
       "                                         description  \\\n",
       "0  A man shot and killed by a deputy at a Washing...   \n",
       "1  Virginia State Police said Brandon S. Odell, 3...   \n",
       "2  On Friday, VSP identfied the man as 31-year-ol...   \n",
       "3  When deputies arrived at the motel room of Bra...   \n",
       "4  The Environment Agency has replenished fish st...   \n",
       "\n",
       "                                            provider datePublished category  \\\n",
       "0  [{'_type': 'Organization', 'name': 'Southwest ...    2021-01-05       US   \n",
       "1     [{'_type': 'Organization', 'name': 'WJHL-TV'}]    2021-05-21       US   \n",
       "2  [{'_type': 'Organization', 'name': 'Bristol He...    2021-05-22       US   \n",
       "3         [{'_type': 'Organization', 'name': 'MSN'}]    2021-05-21       US   \n",
       "4      [{'_type': 'Organization', 'name': 'gov.uk'}]    2021-05-13      NaN   \n",
       "\n",
       "              news_source  \n",
       "0         Southwest Times  \n",
       "1                 WJHL-TV  \n",
       "2  Bristol Herald Courier  \n",
       "3                     MSN  \n",
       "4                  gov.uk  "
      ]
     },
     "execution_count": 88,
     "metadata": {},
     "output_type": "execute_result"
    }
   ],
   "source": [
    "df.head()"
   ]
  },
  {
   "cell_type": "code",
   "execution_count": 89,
   "metadata": {},
   "outputs": [],
   "source": [
    "df.drop('provider',axis=1,inplace=True)"
   ]
  },
  {
   "cell_type": "code",
   "execution_count": 90,
   "metadata": {},
   "outputs": [
    {
     "data": {
      "text/html": [
       "<div>\n",
       "<style scoped>\n",
       "    .dataframe tbody tr th:only-of-type {\n",
       "        vertical-align: middle;\n",
       "    }\n",
       "\n",
       "    .dataframe tbody tr th {\n",
       "        vertical-align: top;\n",
       "    }\n",
       "\n",
       "    .dataframe thead th {\n",
       "        text-align: right;\n",
       "    }\n",
       "</style>\n",
       "<table border=\"1\" class=\"dataframe\">\n",
       "  <thead>\n",
       "    <tr style=\"text-align: right;\">\n",
       "      <th></th>\n",
       "      <th>name</th>\n",
       "      <th>description</th>\n",
       "      <th>datePublished</th>\n",
       "      <th>category</th>\n",
       "      <th>news_source</th>\n",
       "    </tr>\n",
       "  </thead>\n",
       "  <tbody>\n",
       "    <tr>\n",
       "      <th>0</th>\n",
       "      <td>Police shooting suspect identified</td>\n",
       "      <td>A man shot and killed by a deputy at a Washing...</td>\n",
       "      <td>2021-01-05</td>\n",
       "      <td>US</td>\n",
       "      <td>Southwest Times</td>\n",
       "    </tr>\n",
       "    <tr>\n",
       "      <th>1</th>\n",
       "      <td>VSP identifies suspect fatally shot by Washing...</td>\n",
       "      <td>Virginia State Police said Brandon S. Odell, 3...</td>\n",
       "      <td>2021-05-21</td>\n",
       "      <td>US</td>\n",
       "      <td>WJHL-TV</td>\n",
       "    </tr>\n",
       "    <tr>\n",
       "      <th>2</th>\n",
       "      <td>VSP: Bristol, Tenn. man died in officer-involv...</td>\n",
       "      <td>On Friday, VSP identfied the man as 31-year-ol...</td>\n",
       "      <td>2021-05-22</td>\n",
       "      <td>US</td>\n",
       "      <td>Bristol Herald Courier</td>\n",
       "    </tr>\n",
       "    <tr>\n",
       "      <th>3</th>\n",
       "      <td>Name released of man shot and killed by deputy...</td>\n",
       "      <td>When deputies arrived at the motel room of Bra...</td>\n",
       "      <td>2021-05-21</td>\n",
       "      <td>US</td>\n",
       "      <td>MSN</td>\n",
       "    </tr>\n",
       "    <tr>\n",
       "      <th>4</th>\n",
       "      <td>24,000 fish restocked across East Anglia</td>\n",
       "      <td>The Environment Agency has replenished fish st...</td>\n",
       "      <td>2021-05-13</td>\n",
       "      <td>NaN</td>\n",
       "      <td>gov.uk</td>\n",
       "    </tr>\n",
       "  </tbody>\n",
       "</table>\n",
       "</div>"
      ],
      "text/plain": [
       "                                                name  \\\n",
       "0                 Police shooting suspect identified   \n",
       "1  VSP identifies suspect fatally shot by Washing...   \n",
       "2  VSP: Bristol, Tenn. man died in officer-involv...   \n",
       "3  Name released of man shot and killed by deputy...   \n",
       "4           24,000 fish restocked across East Anglia   \n",
       "\n",
       "                                         description datePublished category  \\\n",
       "0  A man shot and killed by a deputy at a Washing...    2021-01-05       US   \n",
       "1  Virginia State Police said Brandon S. Odell, 3...    2021-05-21       US   \n",
       "2  On Friday, VSP identfied the man as 31-year-ol...    2021-05-22       US   \n",
       "3  When deputies arrived at the motel room of Bra...    2021-05-21       US   \n",
       "4  The Environment Agency has replenished fish st...    2021-05-13      NaN   \n",
       "\n",
       "              news_source  \n",
       "0         Southwest Times  \n",
       "1                 WJHL-TV  \n",
       "2  Bristol Herald Courier  \n",
       "3                     MSN  \n",
       "4                  gov.uk  "
      ]
     },
     "execution_count": 90,
     "metadata": {},
     "output_type": "execute_result"
    }
   ],
   "source": [
    "df.head()"
   ]
  },
  {
   "cell_type": "code",
   "execution_count": 28,
   "metadata": {},
   "outputs": [
    {
     "data": {
      "text/plain": [
       "dict_keys(['_type', 'readLink', 'queryContext', 'totalEstimatedMatches', 'sort', 'value'])"
      ]
     },
     "execution_count": 28,
     "metadata": {},
     "output_type": "execute_result"
    }
   ],
   "source": [
    "response.json().keys()"
   ]
  },
  {
   "cell_type": "code",
   "execution_count": 31,
   "metadata": {},
   "outputs": [
    {
     "data": {
      "text/plain": [
       "[{'name': 'Community reacts to police shooting of Roderick Merchant Jr.',\n",
       "  'url': 'https://news.yahoo.com/community-reacts-police-shooting-roderick-222412576.html',\n",
       "  'image': {'thumbnail': {'contentUrl': 'https://www.bing.com/th?id=OVFT.abA_0hJk5kfrqasVN7PWPi&pid=News',\n",
       "    'width': 700,\n",
       "    'height': 393}},\n",
       "  'description': 'Our Rebecca Fiedler talks to two people who knew Merchant, a man shot and killed by CSPD in a confrontation that took place Sunday.',\n",
       "  'provider': [{'_type': 'Organization',\n",
       "    'name': 'YAHOO!News',\n",
       "    'image': {'thumbnail': {'contentUrl': 'https://www.bing.com/th?id=AR_e1eef5681737e5676d7a09990b13411a&pid=news'}}}],\n",
       "  'datePublished': '2021-05-25T22:24:00.0000000Z'},\n",
       " {'name': 'Bryan PD asked to take the lead in officer-involved shooting case in College Station',\n",
       "  'url': 'https://www.kwtx.com/2021/05/24/bryan-pd-asked-to-take-the-lead-in-officer-involved-shooting-case-in-college-station/',\n",
       "  'image': {'thumbnail': {'contentUrl': 'https://www.bing.com/th?id=OVFT.zVn7WF90052nIHwzMNf1zy&pid=News',\n",
       "    'width': 700,\n",
       "    'height': 393}},\n",
       "  'description': 'Investigators say a man who was threatening people and firing a rifle in the parking lot of an apartment complex Sunday afternoon has died after being shot by police.',\n",
       "  'about': [{'readLink': 'https://api.bing.microsoft.com/api/v7/entities/82d14f90-1005-4347-b7ba-ccfc93887818',\n",
       "    'name': 'Bryan'},\n",
       "   {'readLink': 'https://api.bing.microsoft.com/api/v7/entities/aaf19d13-58a4-47ac-8373-bfb2b100e648',\n",
       "    'name': 'Officer'},\n",
       "   {'readLink': 'https://api.bing.microsoft.com/api/v7/entities/b2094016-bb67-474f-80d3-22fdfcee1175',\n",
       "    'name': 'College Station'}],\n",
       "  'provider': [{'_type': 'Organization',\n",
       "    'name': 'KWTX',\n",
       "    'image': {'thumbnail': {'contentUrl': 'https://www.bing.com/th?id=AR_dca285fe7834394375562869054b34cd&pid=news'}}}],\n",
       "  'datePublished': '2021-05-23T18:10:00.0000000Z',\n",
       "  'category': 'US'},\n",
       " {'name': 'Officer Involved Shooting Is Bryan/College Station’s Fifth Gunfire Incident In Five Days',\n",
       "  'url': 'https://wtaw.com/officer-involved-shooting-bryan-college-stations-fifth-gunfire-incident-five-days/',\n",
       "  'image': {'thumbnail': {'contentUrl': 'https://www.bing.com/th?id=OVFT.S5dE1VNuaH1PLT5OzhAaMC&pid=News',\n",
       "    'width': 640,\n",
       "    'height': 360}},\n",
       "  'description': 'A College Station man who fired a rifle at two College Station police officers Sunday afternoon is dead after both officers returned fire. The man who died was identified as 21 year old Roderick Devonne [Read',\n",
       "  'about': [{'readLink': 'https://api.bing.microsoft.com/api/v7/entities/4e4821dd-edee-69ef-88c0-c3b9564b6a8e',\n",
       "    'name': 'Bryan–College Station, TX Metropolitan Statistical Area'},\n",
       "   {'readLink': 'https://api.bing.microsoft.com/api/v7/entities/aaf19d13-58a4-47ac-8373-bfb2b100e648',\n",
       "    'name': 'Officer'},\n",
       "   {'readLink': 'https://api.bing.microsoft.com/api/v7/entities/6bee08f2-92b6-4192-92f5-0244eb575df5',\n",
       "    'name': 'Shooting'}],\n",
       "  'provider': [{'_type': 'Organization',\n",
       "    'name': 'WTAW',\n",
       "    'image': {'thumbnail': {'contentUrl': 'https://www.bing.com/th?id=AR_8f0b467a6d6856e73180f9f04ca64120&pid=news'}}}],\n",
       "  'datePublished': '2021-05-23T20:18:00.0000000Z',\n",
       "  'category': 'US'},\n",
       " {'name': 'Updates on several shootings over the weekend in Brazos County',\n",
       "  'url': 'https://www.kxxv.com/brazos/updates-on-several-shootings-over-the-weekend-in-brazos-county',\n",
       "  'image': {'thumbnail': {'contentUrl': 'https://www.bing.com/th?id=OVFT.RMUNnFRs0OO7r9iIRQ3I2C&pid=News',\n",
       "    'width': 700,\n",
       "    'height': 367}},\n",
       "  'description': 'It was an unfortunately busy weekend of crime in Brazos County. Both Bryan and College Station PD responded to multiple incidents involving gun violence.',\n",
       "  'about': [{'readLink': 'https://api.bing.microsoft.com/api/v7/entities/d3d68b68-2350-fe52-ee1a-1d3159b7dbff',\n",
       "    'name': 'Brazos County'}],\n",
       "  'provider': [{'_type': 'Organization',\n",
       "    'name': 'KXXV News Channel 25',\n",
       "    'image': {'thumbnail': {'contentUrl': 'https://www.bing.com/th?id=AR_b4a15248072dfd8466d354de66e5c8ee&pid=news'}}}],\n",
       "  'datePublished': '2021-05-24T20:28:00.0000000Z'},\n",
       " {'name': 'College Station man killed in officer-involved shooting',\n",
       "  'url': 'https://theeagle.com/news/local/college-station-man-killed-in-officer-involved-shooting/article_69eb3260-bbfb-11eb-9b76-b3477a7a7b55.html',\n",
       "  'image': {'thumbnail': {'contentUrl': 'https://www.bing.com/th?id=OVFT.1kYICxnU3TZ3etHuxQY7-y&pid=News',\n",
       "    'width': 700,\n",
       "    'height': 393}},\n",
       "  'description': 'A 21-year-old College Station man died Sunday after he was shot by police at an apartment complex, authorities said.',\n",
       "  'about': [{'readLink': 'https://api.bing.microsoft.com/api/v7/entities/b2094016-bb67-474f-80d3-22fdfcee1175',\n",
       "    'name': 'College Station'},\n",
       "   {'readLink': 'https://api.bing.microsoft.com/api/v7/entities/7c58267c-b73d-bdd3-40e5-9869f2162206',\n",
       "    'name': 'Shooting'}],\n",
       "  'provider': [{'_type': 'Organization', 'name': 'The Eagle'}],\n",
       "  'datePublished': '2021-05-23T19:16:00.0000000Z',\n",
       "  'video': {'name': 'College Station man killed in officer-involved shooting',\n",
       "   'thumbnailUrl': 'https://www.bing.com/th?id=OVF.ti7D%2B61eFNi8FCFHegR0Aw&pid=News',\n",
       "   'thumbnail': {'width': 300, 'height': 168}},\n",
       "  'category': 'US'},\n",
       " {'name': 'UPDATE: College Station man dies in shooting with police',\n",
       "  'url': 'https://www.msn.com/en-us/news/crime/update-college-station-man-dies-in-shooting-with-police/ar-AAKiHfQ',\n",
       "  'description': 'College Station Police Chief Billy Couch said Roderick Merchant knew people who lived at the apartment complex. Couch said Merchant was with a woman when officers got to the scene Sunday. He said officers tried to get the two of them to come outside and talk,',\n",
       "  'about': [{'readLink': 'https://api.bing.microsoft.com/api/v7/entities/b2094016-bb67-474f-80d3-22fdfcee1175',\n",
       "    'name': 'College Station'},\n",
       "   {'readLink': 'https://api.bing.microsoft.com/api/v7/entities/5452cee2-12a5-11b9-40a4-4a08900c0b19',\n",
       "    'name': 'Tap and die'},\n",
       "   {'readLink': 'https://api.bing.microsoft.com/api/v7/entities/7c58267c-b73d-bdd3-40e5-9869f2162206',\n",
       "    'name': 'Shooting'}],\n",
       "  'mentions': [{'name': 'College Station'},\n",
       "   {'name': 'Tap and die'},\n",
       "   {'name': 'Shooting'}],\n",
       "  'provider': [{'_type': 'Organization',\n",
       "    'name': 'KAGS-TV Waco-Temple-Bryan on MSN.com',\n",
       "    'image': {'thumbnail': {'contentUrl': 'https://www.bing.com/th?id=AR_0cfcddaa71cae000b74e3bf52bc84d78&pid=news'}}}],\n",
       "  'datePublished': '2021-05-23T20:59:49.0000000Z',\n",
       "  'video': {'name': 'CSPD: Armed man attempting home invasions shot by officers',\n",
       "   'motionThumbnailUrl': 'https://prod-streaming-video-msn-com.akamaized.net/605df74c-b03e-4c44-a3b1-07d7d52291fe/e73cefb3-7d4e-444d-b8c4-14c4c937_650.mp4',\n",
       "   'thumbnail': {'width': 640, 'height': 360}},\n",
       "  'category': 'US'},\n",
       " {'name': 'Death Is Sexier Than Sex (to Ann Coulter)',\n",
       "  'url': 'https://bradblog.com/?p=2070',\n",
       "  'description': 'When he said he was a \"family traditionalist\" I said, \"Listen, I\\'m a liberal and a mom and I am deeply anti-porn. Paris Hilton\\'s Carl\\'s Jr. commercial, and Britney Spears\\' writhing belly-button were both Republican agendas, and were not allowed in our house.\"',\n",
       "  'about': [{'readLink': 'https://api.bing.microsoft.com/api/v7/entities/4a730c1d-8ca7-74af-fc53-c03dc211e236',\n",
       "    'name': 'Ann Coulter'},\n",
       "   {'readLink': 'https://api.bing.microsoft.com/api/v7/entities/da3f5fae-1eee-ef24-d812-bf7c9e1a72e8',\n",
       "    'name': 'Sexual attraction'},\n",
       "   {'readLink': 'https://api.bing.microsoft.com/api/v7/entities/a9163421-8512-7134-dd3f-3028f90b3aab',\n",
       "    'name': 'Death'}],\n",
       "  'provider': [{'_type': 'Organization', 'name': 'The Brad Blog'}],\n",
       "  'datePublished': '2021-05-22T00:00:00.0000000Z'},\n",
       " {'name': 'City Court Owed Almost $9 Million - Including Almost $30,000 By 1 Woman',\n",
       "  'url': 'https://www.chattanoogan.com/2009/9/16/159072/City-Court-Owed-Almost-9-Million--.aspx',\n",
       "  'description': 'Here is the latest Hamilton County arrest report: ALTMAN, ASHLEY K 1102 S GREENWOOD AVE CHATTANOOGA, 37404 Age at Arrest: 25 years old Arresting Agency: East Ridge PUBLIC INTOXICATION ..',\n",
       "  'provider': [{'_type': 'Organization', 'name': 'Chattanoogan.com'}],\n",
       "  'datePublished': '2021-05-20T00:00:00.0000000Z'},\n",
       " {'name': \"Berlin's Razor Group raises $400M to buy and scale Amazon Marketplace merchants\",\n",
       "  'url': 'https://ca.news.yahoo.com/berlins-razor-group-raises-400m-113932501.html',\n",
       "  'description': \"The market remains very hot for startups building e-commerce empires by consolidating independent third-party merchants that have gained traction on Amazon's Marketplace, and in the latest development, Razor Group-- a Berlin-based startup buying up ...\",\n",
       "  'about': [{'readLink': 'https://api.bing.microsoft.com/api/v7/entities/42784943-7c23-7672-5527-06f89b965cdf',\n",
       "    'name': 'Berlin'}],\n",
       "  'provider': [{'_type': 'Organization', 'name': 'Yahoo News'}],\n",
       "  'datePublished': '2021-05-04T04:39:00.0000000Z'},\n",
       " {'name': 'Honor Roll',\n",
       "  'url': 'https://www.theunion.com/opinion/honor-roll-45/',\n",
       "  'description': 'Jordan Alves, Frithjof Avery, Antonina Bruno, Trevor Bryant, Hayley Chase, Nicholas Eccarius, Miguel Espinosa, Jose Gamino, Gina Hall, Marissa Honey, Kala Kleiber ...',\n",
       "  'provider': [{'_type': 'Organization', 'name': 'The Union'}],\n",
       "  'datePublished': '2017-11-22T07:11:00.0000000Z'},\n",
       " {'name': \"2005 Division III Men's Outdoor List\",\n",
       "  'url': 'https://www.flotrack.org/articles/5017263-2005-division-iii-mens-outdoor-list',\n",
       "  'description': \"2005 Division III Men's Outdoor List 100 METER DASH Greg Nixon Fr Howard Payne 10.37[+4.3w] 5/12 ACU Open Brandon Tripp Jr Greenville College 10.43 5/7 NCCAA Championships John Biacofsky Sr Mount ...\",\n",
       "  'about': [{'readLink': 'https://api.bing.microsoft.com/api/v7/entities/d8a4ff23-7bf7-5527-b847-270af5f34856',\n",
       "    'name': 'Division III'},\n",
       "   {'readLink': 'https://api.bing.microsoft.com/api/v7/entities/79562f46-8ff2-d2a4-f183-9339fbd91c8a',\n",
       "    'name': 'Wilderness'}],\n",
       "  'provider': [{'_type': 'Organization', 'name': 'FloTrack'}],\n",
       "  'datePublished': '2021-05-09T08:30:00.0000000Z'},\n",
       " {'name': 'GCash sets sights on ₧2-T transactions',\n",
       "  'url': 'https://businessmirror.com.ph/2021/05/12/gcash-sets-sights-on-%E2%82%A72-t-transactions/',\n",
       "  'description': 'GCash, he added, now has 1.6 million merchants and social sellers to date. It has also increased its cash-in touchpoints to 40,000 doors from 17,000 doors. “One of the things that we are proud ...',\n",
       "  'provider': [{'_type': 'Organization', 'name': 'BusinessMirror'}],\n",
       "  'datePublished': '2021-05-12T00:01:00.0000000Z',\n",
       "  'category': 'ScienceAndTechnology'},\n",
       " {'name': 'Shakespeare, Law, and Marriage',\n",
       "  'url': 'https://www.cambridge.org/core/books/shakespeare-law-and-marriage/B09579886B99F535C536D0E8B597445F',\n",
       "  'description': \"Ross, Emily 2008. “Words, vows, gifts, tears and love's full sacrifice”: An assessment of the status of Troilus and Cressida's relationship according to customary ...\",\n",
       "  'about': [{'readLink': 'https://api.bing.microsoft.com/api/v7/entities/d44a7837-15d6-2b96-a1dc-78a6d232281a',\n",
       "    'name': 'William Shakespeare'},\n",
       "   {'readLink': 'https://api.bing.microsoft.com/api/v7/entities/178c7867-ab25-0abe-ed87-7855ff4b6499',\n",
       "    'name': 'Law'},\n",
       "   {'readLink': 'https://api.bing.microsoft.com/api/v7/entities/ef942521-19d5-dac2-2d83-a3229d87db76',\n",
       "    'name': 'Marriage'}],\n",
       "  'provider': [{'_type': 'Organization',\n",
       "    'name': 'Cambridge University Press'}],\n",
       "  'datePublished': '2021-04-21T00:28:00.0000000Z'},\n",
       " {'name': 'Death Merchants: NRA Board Member Barrett Manufactures, Sells Sniper Rifles to Civilians',\n",
       "  'url': 'https://bradblog.com/?p=9820',\n",
       "  'description': 'This still photo depicts actor Mark Wahlberg using the powerful .50 BMG Barrett M82A1M to shoot down an approaching helicopter at the outset of the 2007 motion picture, Shooter. Later, in the same film, what appears to be a Barrett M82A1 mounted atop a ...',\n",
       "  'provider': [{'_type': 'Organization', 'name': 'The Brad Blog'}],\n",
       "  'datePublished': '2021-04-23T00:00:00.0000000Z'},\n",
       " {'name': 'San Francisco’s Emergency Rules Threaten Food Deliveries',\n",
       "  'url': 'https://www.foxandhoundsdaily.com/2020/04/san-fransiscos-emergency-rules-threaten-food-deliveries/',\n",
       "  'description': 'Uber Eats waived customer fees for orders from small restaurants. Postmates has waived commissions for new brick-and-mortar retail merchants in San Francisco. These are just a few of the ways that these app-based companies – like many companies in myriad ...',\n",
       "  'provider': [{'_type': 'Organization', 'name': 'Fox&Hounds'}],\n",
       "  'datePublished': '2020-08-02T01:24:00.0000000Z'},\n",
       " {'name': 'Rhetoric and Courtliness in Early Modern Literature',\n",
       "  'url': 'https://www.cambridge.org/core/books/rhetoric-and-courtliness-in-early-modern-literature/4609D3016D55AB883B7E72630A780BD4',\n",
       "  'description': 'Kampmann, Christoph Müller, Winfried Asch, Ronald G. Asbach, Olaf Bosbach, Franz Steiger, Heinhard Fischer, Norbert Beutel, Albrecht Leicht, Reimund Vogel, Christine ...',\n",
       "  'provider': [{'_type': 'Organization',\n",
       "    'name': 'Cambridge University Press'}],\n",
       "  'datePublished': '2021-05-17T18:37:00.0000000Z'},\n",
       " {'name': \"Factbox: Bitcoin's march towards the mainstream\",\n",
       "  'url': 'https://ca.news.yahoo.com/factbox-bitcoins-march-towards-mainstream-091901401.html',\n",
       "  'description': 'PayPal Holdings Inc allows U.S. consumers to use their cryptocurrency holdings to pay at millions of its online merchants globally. * Tesla Inc customers can now buy its electric vehicles with bitcoin, its boss Elon Musk says. * Mastercard Inc unveils ...',\n",
       "  'about': [{'readLink': 'https://api.bing.microsoft.com/api/v7/entities/3c54827b-4760-5e96-38ea-ce42e93ba2de',\n",
       "    'name': 'March'},\n",
       "   {'readLink': 'https://api.bing.microsoft.com/api/v7/entities/821bae7c-8bb9-0314-e568-bc9710fe0280',\n",
       "    'name': 'Mainstream'}],\n",
       "  'provider': [{'_type': 'Organization', 'name': 'Yahoo News'}],\n",
       "  'datePublished': '2021-05-11T09:31:00.0000000Z'},\n",
       " {'name': '2020-21 Detroit News All-Metro Detroit boys basketball teams',\n",
       "  'url': 'https://www.detroitnews.com/story/sports/high-school/2021/05/05/2020-21-detroit-news-all-metro-detroit-boys-basketball-teams/7402881002/',\n",
       "  'description': 'Brooks II capped off his career in style, earning the title of Mr. Basketball while leading Douglass to its first state championship. He averaged 33.1 points, 10.7 rebounds, 4.7 assists, 2.3 ...',\n",
       "  'about': [{'readLink': 'https://api.bing.microsoft.com/api/v7/entities/3aa88462-6ece-94f7-a000-9d1e3907b6af',\n",
       "    'name': 'Metro Detroit'},\n",
       "   {'readLink': 'https://api.bing.microsoft.com/api/v7/entities/36f82bc6-fc24-cbff-938a-3d1133e8f65d',\n",
       "    'name': 'The Detroit News'}],\n",
       "  'provider': [{'_type': 'Organization', 'name': 'Detroit News'}],\n",
       "  'datePublished': '2021-05-06T07:10:00.0000000Z'},\n",
       " {'name': 'June 1 deadline set for coal plants',\n",
       "  'url': 'https://www2.ljworld.com/news/2008/feb/19/june_1_deadline_set_coal_plants/',\n",
       "  'description': 'Last year, Kansas Department of Health and Environment Secretary Roderick Bremby denied permits ... and the original bill also banned merchant plants and had a carbon tax that made mitigation ...',\n",
       "  'provider': [{'_type': 'Organization', 'name': 'Lawrence Journal-World'}],\n",
       "  'datePublished': '2021-04-27T23:59:00.0000000Z'},\n",
       " {'name': 'Newsom: State can begin gradual reopening Friday',\n",
       "  'url': 'https://www.foxandhoundsdaily.com/2020/05/newsom-state-can-begin-gradual-reopening-friday/',\n",
       "  'description': 'Gavin Newsom said today. Clothing outlets, bookstores, florists and other merchants across the state will be allowed to offer curbside pickup as long as they obey physical distancing guidelines meant to stem the spread of the novel coronavirus.',\n",
       "  'provider': [{'_type': 'Organization', 'name': 'Fox&Hounds'}],\n",
       "  'datePublished': '2021-05-05T00:00:00.0000000Z'}]"
      ]
     },
     "execution_count": 31,
     "metadata": {},
     "output_type": "execute_result"
    }
   ],
   "source": [
    "response.json()['value']"
   ]
  },
  {
   "cell_type": "code",
   "execution_count": null,
   "metadata": {},
   "outputs": [],
   "source": [
    "len(response.json()['value'])"
   ]
  },
  {
   "cell_type": "code",
   "execution_count": null,
   "metadata": {},
   "outputs": [],
   "source": [
    "response.json()"
   ]
  },
  {
   "cell_type": "code",
   "execution_count": null,
   "metadata": {},
   "outputs": [],
   "source": []
  }
 ],
 "metadata": {
  "kernelspec": {
   "display_name": "Python 3",
   "language": "python",
   "name": "python3"
  },
  "language_info": {
   "codemirror_mode": {
    "name": "ipython",
    "version": 3
   },
   "file_extension": ".py",
   "mimetype": "text/x-python",
   "name": "python",
   "nbconvert_exporter": "python",
   "pygments_lexer": "ipython3",
   "version": "3.8.3"
  }
 },
 "nbformat": 4,
 "nbformat_minor": 4
}
